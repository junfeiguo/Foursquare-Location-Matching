{
  "cells": [
    {
      "cell_type": "markdown",
      "metadata": {
        "id": "xWskOwOjwhzJ"
      },
      "source": [
        "# COS20083 Advanced Data Analytics\n",
        "\n",
        "## Assignment 2: Case Study and Algorithm Implementation\n",
        "\n",
        "### Semester 1, 2022"
      ]
    },
    {
      "cell_type": "markdown",
      "metadata": {
        "id": "o-IoztYpwhzM"
      },
      "source": [
        "#### Group Number: <p style =\"color: red;\"> 11</p>\n",
        "#### Group Members: <p style =\"color: red;\"> Lim Zong Xin (101232574), Justin Liu Shan Wei (101231403)</p>"
      ]
    },
    {
      "cell_type": "markdown",
      "metadata": {
        "id": "E5OBF6tZwhzN"
      },
      "source": [
        "# 1. Introduction"
      ]
    },
    {
      "cell_type": "markdown",
      "source": [
        "### What is the purpose of the assignment?\n",
        "### What is the problem to be addressed by this case study?\n",
        "\n",
        "The purpose of the assignment is to is to build a machine learning model to predict which Place entries represent the same point-of-interest. The problem to be addressed in this case study is to match Point-of-Interests using a simulated dataset from Foursquare which contains the Places and movement of customers of over one-and-a-half million Place entries to predict where new stores and businesses will benefit people the most."
      ],
      "metadata": {
        "id": "8Jc29yVXsgZq"
      }
    },
    {
      "cell_type": "markdown",
      "metadata": {
        "id": "KdJWbse3whzO"
      },
      "source": [
        "# 2. Data Collection"
      ]
    },
    {
      "cell_type": "markdown",
      "source": [
        "### Describe the purpose and the process of data collection and understanding here\n",
        "\n",
        "The purpose of performing data collection and understanding is to gather information in a systematic manner to allow data analysis. The csv files used in this assignment consists of train.csv, test.csv, sample_submission.csv and the pairs.csv. Several python libraries were imported and pandas was used to read the csv files using the pd.read_csv() function. The data types present in the dataframes are then shown using the df.info() function as listed below."
      ],
      "metadata": {
        "id": "NvEzuS2ss5qH"
      }
    },
    {
      "cell_type": "code",
      "execution_count": null,
      "metadata": {
        "id": "35Sy4225whzP"
      },
      "outputs": [],
      "source": [
        "# Show your code here (Step by Step) \n",
        "# Comment each step in your code"
      ]
    },
    {
      "cell_type": "code",
      "execution_count": 1,
      "metadata": {
        "colab": {
          "base_uri": "https://localhost:8080/"
        },
        "id": "aQwp_WcB0WK6",
        "outputId": "c65884e0-536f-469e-9db8-0def024b3c27"
      },
      "outputs": [
        {
          "output_type": "stream",
          "name": "stdout",
          "text": [
            "Mounted at /content/drive\n"
          ]
        }
      ],
      "source": [
        "from google.colab import drive\n",
        "drive.mount('/content/drive')"
      ]
    },
    {
      "cell_type": "code",
      "execution_count": 3,
      "metadata": {
        "id": "d7h5aPsa0y2p"
      },
      "outputs": [],
      "source": [
        "#Import libraries\n",
        "import numpy as np\n",
        "import pandas as pd\n",
        "import seaborn as sns\n",
        "import matplotlib.pyplot as plt\n",
        "import plotly.express as px\n",
        "from sklearn.model_selection import train_test_split\n",
        "from sklearn.ensemble import RandomForestClassifier\n",
        "from sklearn.neighbors import BallTree\n",
        "from tqdm import tqdm"
      ]
    },
    {
      "cell_type": "code",
      "execution_count": 4,
      "metadata": {
        "id": "sZR-MBM400mS"
      },
      "outputs": [],
      "source": [
        "#Read csv files\n",
        "df_train = pd.read_csv('/content/drive/MyDrive/Foursquare Location Matching/train.csv')\n",
        "df_test = pd.read_csv('/content/drive/MyDrive/Foursquare Location Matching/test.csv')\n",
        "\n",
        "sample_submission = pd.read_csv('/content/drive/MyDrive/Foursquare Location Matching/sample_submission.csv')\n",
        "pairs=pd.read_csv('/content/drive/MyDrive/Foursquare Location Matching/pairs.csv')"
      ]
    },
    {
      "cell_type": "code",
      "execution_count": null,
      "metadata": {
        "colab": {
          "base_uri": "https://localhost:8080/"
        },
        "id": "-O_Ug0K10RxD",
        "outputId": "782799aa-f31b-4522-cace-ac5b901b3a0e"
      },
      "outputs": [
        {
          "output_type": "stream",
          "name": "stdout",
          "text": [
            "<class 'pandas.core.frame.DataFrame'>\n",
            "RangeIndex: 1138812 entries, 0 to 1138811\n",
            "Data columns (total 13 columns):\n",
            " #   Column             Non-Null Count    Dtype  \n",
            "---  ------             --------------    -----  \n",
            " 0   id                 1138812 non-null  object \n",
            " 1   name               1138811 non-null  object \n",
            " 2   latitude           1138812 non-null  float64\n",
            " 3   longitude          1138812 non-null  float64\n",
            " 4   address            742191 non-null   object \n",
            " 5   city               839623 non-null   object \n",
            " 6   state              718226 non-null   object \n",
            " 7   zip                543386 non-null   object \n",
            " 8   country            1138801 non-null  object \n",
            " 9   url                267724 non-null   object \n",
            " 10  phone              342855 non-null   object \n",
            " 11  categories         1040505 non-null  object \n",
            " 12  point_of_interest  1138812 non-null  object \n",
            "dtypes: float64(2), object(11)\n",
            "memory usage: 112.9+ MB\n"
          ]
        }
      ],
      "source": [
        "#Display data types in train dataset\n",
        "df_train.info()"
      ]
    },
    {
      "cell_type": "code",
      "execution_count": null,
      "metadata": {
        "colab": {
          "base_uri": "https://localhost:8080/"
        },
        "id": "cA05eMtZ0RxE",
        "outputId": "67361a87-a6ec-4c2d-c853-633f4a310868"
      },
      "outputs": [
        {
          "output_type": "stream",
          "name": "stdout",
          "text": [
            "<class 'pandas.core.frame.DataFrame'>\n",
            "RangeIndex: 5 entries, 0 to 4\n",
            "Data columns (total 12 columns):\n",
            " #   Column      Non-Null Count  Dtype  \n",
            "---  ------      --------------  -----  \n",
            " 0   id          5 non-null      object \n",
            " 1   name        5 non-null      object \n",
            " 2   latitude    5 non-null      float64\n",
            " 3   longitude   5 non-null      float64\n",
            " 4   address     3 non-null      object \n",
            " 5   city        3 non-null      object \n",
            " 6   state       2 non-null      object \n",
            " 7   zip         2 non-null      float64\n",
            " 8   country     5 non-null      object \n",
            " 9   url         1 non-null      object \n",
            " 10  phone       1 non-null      float64\n",
            " 11  categories  5 non-null      object \n",
            "dtypes: float64(4), object(8)\n",
            "memory usage: 608.0+ bytes\n"
          ]
        }
      ],
      "source": [
        "#Display data types in test dataset\n",
        "df_test.info()"
      ]
    },
    {
      "cell_type": "code",
      "execution_count": null,
      "metadata": {
        "colab": {
          "base_uri": "https://localhost:8080/"
        },
        "id": "_yhiZNpP0RxE",
        "outputId": "39bbc4e3-1cfe-49b5-be56-0628c3a3f3c4"
      },
      "outputs": [
        {
          "output_type": "stream",
          "name": "stdout",
          "text": [
            "<class 'pandas.core.frame.DataFrame'>\n",
            "RangeIndex: 5 entries, 0 to 4\n",
            "Data columns (total 2 columns):\n",
            " #   Column   Non-Null Count  Dtype \n",
            "---  ------   --------------  ----- \n",
            " 0   id       5 non-null      object\n",
            " 1   matches  5 non-null      object\n",
            "dtypes: object(2)\n",
            "memory usage: 208.0+ bytes\n"
          ]
        }
      ],
      "source": [
        "#Display data types in sample_submission dataset\n",
        "sample_submission.info()"
      ]
    },
    {
      "cell_type": "code",
      "execution_count": null,
      "metadata": {
        "colab": {
          "base_uri": "https://localhost:8080/"
        },
        "id": "8N7XeXUN0RxF",
        "outputId": "5e787d83-82d5-4339-c9d5-c096a29e380c"
      },
      "outputs": [
        {
          "output_type": "stream",
          "name": "stdout",
          "text": [
            "<class 'pandas.core.frame.DataFrame'>\n",
            "RangeIndex: 578907 entries, 0 to 578906\n",
            "Data columns (total 25 columns):\n",
            " #   Column        Non-Null Count   Dtype  \n",
            "---  ------        --------------   -----  \n",
            " 0   id_1          578907 non-null  object \n",
            " 1   name_1        578907 non-null  object \n",
            " 2   latitude_1    578907 non-null  float64\n",
            " 3   longitude_1   578907 non-null  float64\n",
            " 4   address_1     475383 non-null  object \n",
            " 5   city_1        512928 non-null  object \n",
            " 6   state_1       452316 non-null  object \n",
            " 7   zip_1         359509 non-null  object \n",
            " 8   country_1     578899 non-null  object \n",
            " 9   url_1         231806 non-null  object \n",
            " 10  phone_1       270022 non-null  object \n",
            " 11  categories_1  562613 non-null  object \n",
            " 12  id_2          578907 non-null  object \n",
            " 13  name_2        578907 non-null  object \n",
            " 14  latitude_2    578907 non-null  float64\n",
            " 15  longitude_2   578907 non-null  float64\n",
            " 16  address_2     312497 non-null  object \n",
            " 17  city_2        367490 non-null  object \n",
            " 18  state_2       309689 non-null  object \n",
            " 19  zip_2         224827 non-null  object \n",
            " 20  country_2     578901 non-null  object \n",
            " 21  url_2         84850 non-null   object \n",
            " 22  phone_2       118963 non-null  object \n",
            " 23  categories_2  502931 non-null  object \n",
            " 24  match         578907 non-null  bool   \n",
            "dtypes: bool(1), float64(4), object(20)\n",
            "memory usage: 106.6+ MB\n"
          ]
        }
      ],
      "source": [
        "#Display data types in pairs dataset\n",
        "pairs.info()"
      ]
    },
    {
      "cell_type": "markdown",
      "metadata": {
        "id": "w1QPbDe10RxF"
      },
      "source": [
        "# 3. Exploratory Data Analysis"
      ]
    },
    {
      "cell_type": "markdown",
      "metadata": {
        "id": "_XIWON5FrkSa"
      },
      "source": [
        "Exploratory data analysis is an approach of analyzing data sets to summarize their main characteristics, often using statistical graphics and other data visualization methods"
      ]
    },
    {
      "cell_type": "code",
      "execution_count": null,
      "metadata": {
        "id": "sW-jB1Hasnq2"
      },
      "outputs": [],
      "source": [
        "# Show your code here (Step by Step) \n",
        "# Comment each step in your code"
      ]
    },
    {
      "cell_type": "code",
      "execution_count": null,
      "metadata": {
        "colab": {
          "base_uri": "https://localhost:8080/"
        },
        "id": "AxX_SWO_Yuls",
        "outputId": "4d4dd759-3ac5-4d00-e929-4110163720d6"
      },
      "outputs": [
        {
          "output_type": "stream",
          "name": "stdout",
          "text": [
            "(1138812, 13)\n",
            "(5, 12)\n",
            "(5, 2)\n",
            "(578907, 25)\n"
          ]
        }
      ],
      "source": [
        "#Total number of rows and columns in datasets\n",
        "print(df_train.shape)\n",
        "print(df_test.shape)\n",
        "print(sample_submission.shape)\n",
        "print(pairs.shape)"
      ]
    },
    {
      "cell_type": "code",
      "execution_count": null,
      "metadata": {
        "colab": {
          "base_uri": "https://localhost:8080/",
          "height": 250
        },
        "id": "61pOBWAcxkaH",
        "outputId": "3e6c5fdf-8906-447f-9c92-c836ffe13f9a"
      },
      "outputs": [
        {
          "output_type": "execute_result",
          "data": {
            "text/plain": [
              "                 id                     name   latitude   longitude  \\\n",
              "0  E_000001272c6c5d     Café Stad Oudenaarde  50.859975    3.634196   \n",
              "1  E_000002eae2a589           Carioca Manero -22.907225  -43.178244   \n",
              "2  E_000007f24ebc95         ร้านตัดผมการาเกด  13.780813  100.484900   \n",
              "3  E_000008a8ba4f48                 Turkcell  37.844510   27.844202   \n",
              "4  E_00001d92066153  Restaurante Casa Cofiño  43.338196   -4.326821   \n",
              "\n",
              "                  address        city            state   zip country  url  \\\n",
              "0             Abdijstraat  Nederename  Oost-Vlaanderen  9700      BE  NaN   \n",
              "1                     NaN         NaN              NaN   NaN      BR  NaN   \n",
              "2                     NaN         NaN              NaN   NaN      TH  NaN   \n",
              "3  Adnan Menderes Bulvarı         NaN              NaN   NaN      TR  NaN   \n",
              "4                     NaN    Caviedes        Cantabria   NaN      ES  NaN   \n",
              "\n",
              "  phone             categories point_of_interest  \n",
              "0   NaN                   Bars  P_677e840bb6fc7e  \n",
              "1   NaN  Brazilian Restaurants  P_d82910d8382a83  \n",
              "2   NaN   Salons / Barbershops  P_b1066599e78477  \n",
              "3   NaN     Mobile Phone Shops  P_b2ed86905a4cd3  \n",
              "4   NaN    Spanish Restaurants  P_809a884d4407fb  "
            ],
            "text/html": [
              "\n",
              "  <div id=\"df-fbd8375d-b93b-4316-a648-9d894970bac7\">\n",
              "    <div class=\"colab-df-container\">\n",
              "      <div>\n",
              "<style scoped>\n",
              "    .dataframe tbody tr th:only-of-type {\n",
              "        vertical-align: middle;\n",
              "    }\n",
              "\n",
              "    .dataframe tbody tr th {\n",
              "        vertical-align: top;\n",
              "    }\n",
              "\n",
              "    .dataframe thead th {\n",
              "        text-align: right;\n",
              "    }\n",
              "</style>\n",
              "<table border=\"1\" class=\"dataframe\">\n",
              "  <thead>\n",
              "    <tr style=\"text-align: right;\">\n",
              "      <th></th>\n",
              "      <th>id</th>\n",
              "      <th>name</th>\n",
              "      <th>latitude</th>\n",
              "      <th>longitude</th>\n",
              "      <th>address</th>\n",
              "      <th>city</th>\n",
              "      <th>state</th>\n",
              "      <th>zip</th>\n",
              "      <th>country</th>\n",
              "      <th>url</th>\n",
              "      <th>phone</th>\n",
              "      <th>categories</th>\n",
              "      <th>point_of_interest</th>\n",
              "    </tr>\n",
              "  </thead>\n",
              "  <tbody>\n",
              "    <tr>\n",
              "      <th>0</th>\n",
              "      <td>E_000001272c6c5d</td>\n",
              "      <td>Café Stad Oudenaarde</td>\n",
              "      <td>50.859975</td>\n",
              "      <td>3.634196</td>\n",
              "      <td>Abdijstraat</td>\n",
              "      <td>Nederename</td>\n",
              "      <td>Oost-Vlaanderen</td>\n",
              "      <td>9700</td>\n",
              "      <td>BE</td>\n",
              "      <td>NaN</td>\n",
              "      <td>NaN</td>\n",
              "      <td>Bars</td>\n",
              "      <td>P_677e840bb6fc7e</td>\n",
              "    </tr>\n",
              "    <tr>\n",
              "      <th>1</th>\n",
              "      <td>E_000002eae2a589</td>\n",
              "      <td>Carioca Manero</td>\n",
              "      <td>-22.907225</td>\n",
              "      <td>-43.178244</td>\n",
              "      <td>NaN</td>\n",
              "      <td>NaN</td>\n",
              "      <td>NaN</td>\n",
              "      <td>NaN</td>\n",
              "      <td>BR</td>\n",
              "      <td>NaN</td>\n",
              "      <td>NaN</td>\n",
              "      <td>Brazilian Restaurants</td>\n",
              "      <td>P_d82910d8382a83</td>\n",
              "    </tr>\n",
              "    <tr>\n",
              "      <th>2</th>\n",
              "      <td>E_000007f24ebc95</td>\n",
              "      <td>ร้านตัดผมการาเกด</td>\n",
              "      <td>13.780813</td>\n",
              "      <td>100.484900</td>\n",
              "      <td>NaN</td>\n",
              "      <td>NaN</td>\n",
              "      <td>NaN</td>\n",
              "      <td>NaN</td>\n",
              "      <td>TH</td>\n",
              "      <td>NaN</td>\n",
              "      <td>NaN</td>\n",
              "      <td>Salons / Barbershops</td>\n",
              "      <td>P_b1066599e78477</td>\n",
              "    </tr>\n",
              "    <tr>\n",
              "      <th>3</th>\n",
              "      <td>E_000008a8ba4f48</td>\n",
              "      <td>Turkcell</td>\n",
              "      <td>37.844510</td>\n",
              "      <td>27.844202</td>\n",
              "      <td>Adnan Menderes Bulvarı</td>\n",
              "      <td>NaN</td>\n",
              "      <td>NaN</td>\n",
              "      <td>NaN</td>\n",
              "      <td>TR</td>\n",
              "      <td>NaN</td>\n",
              "      <td>NaN</td>\n",
              "      <td>Mobile Phone Shops</td>\n",
              "      <td>P_b2ed86905a4cd3</td>\n",
              "    </tr>\n",
              "    <tr>\n",
              "      <th>4</th>\n",
              "      <td>E_00001d92066153</td>\n",
              "      <td>Restaurante Casa Cofiño</td>\n",
              "      <td>43.338196</td>\n",
              "      <td>-4.326821</td>\n",
              "      <td>NaN</td>\n",
              "      <td>Caviedes</td>\n",
              "      <td>Cantabria</td>\n",
              "      <td>NaN</td>\n",
              "      <td>ES</td>\n",
              "      <td>NaN</td>\n",
              "      <td>NaN</td>\n",
              "      <td>Spanish Restaurants</td>\n",
              "      <td>P_809a884d4407fb</td>\n",
              "    </tr>\n",
              "  </tbody>\n",
              "</table>\n",
              "</div>\n",
              "      <button class=\"colab-df-convert\" onclick=\"convertToInteractive('df-fbd8375d-b93b-4316-a648-9d894970bac7')\"\n",
              "              title=\"Convert this dataframe to an interactive table.\"\n",
              "              style=\"display:none;\">\n",
              "        \n",
              "  <svg xmlns=\"http://www.w3.org/2000/svg\" height=\"24px\"viewBox=\"0 0 24 24\"\n",
              "       width=\"24px\">\n",
              "    <path d=\"M0 0h24v24H0V0z\" fill=\"none\"/>\n",
              "    <path d=\"M18.56 5.44l.94 2.06.94-2.06 2.06-.94-2.06-.94-.94-2.06-.94 2.06-2.06.94zm-11 1L8.5 8.5l.94-2.06 2.06-.94-2.06-.94L8.5 2.5l-.94 2.06-2.06.94zm10 10l.94 2.06.94-2.06 2.06-.94-2.06-.94-.94-2.06-.94 2.06-2.06.94z\"/><path d=\"M17.41 7.96l-1.37-1.37c-.4-.4-.92-.59-1.43-.59-.52 0-1.04.2-1.43.59L10.3 9.45l-7.72 7.72c-.78.78-.78 2.05 0 2.83L4 21.41c.39.39.9.59 1.41.59.51 0 1.02-.2 1.41-.59l7.78-7.78 2.81-2.81c.8-.78.8-2.07 0-2.86zM5.41 20L4 18.59l7.72-7.72 1.47 1.35L5.41 20z\"/>\n",
              "  </svg>\n",
              "      </button>\n",
              "      \n",
              "  <style>\n",
              "    .colab-df-container {\n",
              "      display:flex;\n",
              "      flex-wrap:wrap;\n",
              "      gap: 12px;\n",
              "    }\n",
              "\n",
              "    .colab-df-convert {\n",
              "      background-color: #E8F0FE;\n",
              "      border: none;\n",
              "      border-radius: 50%;\n",
              "      cursor: pointer;\n",
              "      display: none;\n",
              "      fill: #1967D2;\n",
              "      height: 32px;\n",
              "      padding: 0 0 0 0;\n",
              "      width: 32px;\n",
              "    }\n",
              "\n",
              "    .colab-df-convert:hover {\n",
              "      background-color: #E2EBFA;\n",
              "      box-shadow: 0px 1px 2px rgba(60, 64, 67, 0.3), 0px 1px 3px 1px rgba(60, 64, 67, 0.15);\n",
              "      fill: #174EA6;\n",
              "    }\n",
              "\n",
              "    [theme=dark] .colab-df-convert {\n",
              "      background-color: #3B4455;\n",
              "      fill: #D2E3FC;\n",
              "    }\n",
              "\n",
              "    [theme=dark] .colab-df-convert:hover {\n",
              "      background-color: #434B5C;\n",
              "      box-shadow: 0px 1px 3px 1px rgba(0, 0, 0, 0.15);\n",
              "      filter: drop-shadow(0px 1px 2px rgba(0, 0, 0, 0.3));\n",
              "      fill: #FFFFFF;\n",
              "    }\n",
              "  </style>\n",
              "\n",
              "      <script>\n",
              "        const buttonEl =\n",
              "          document.querySelector('#df-fbd8375d-b93b-4316-a648-9d894970bac7 button.colab-df-convert');\n",
              "        buttonEl.style.display =\n",
              "          google.colab.kernel.accessAllowed ? 'block' : 'none';\n",
              "\n",
              "        async function convertToInteractive(key) {\n",
              "          const element = document.querySelector('#df-fbd8375d-b93b-4316-a648-9d894970bac7');\n",
              "          const dataTable =\n",
              "            await google.colab.kernel.invokeFunction('convertToInteractive',\n",
              "                                                     [key], {});\n",
              "          if (!dataTable) return;\n",
              "\n",
              "          const docLinkHtml = 'Like what you see? Visit the ' +\n",
              "            '<a target=\"_blank\" href=https://colab.research.google.com/notebooks/data_table.ipynb>data table notebook</a>'\n",
              "            + ' to learn more about interactive tables.';\n",
              "          element.innerHTML = '';\n",
              "          dataTable['output_type'] = 'display_data';\n",
              "          await google.colab.output.renderOutput(dataTable, element);\n",
              "          const docLink = document.createElement('div');\n",
              "          docLink.innerHTML = docLinkHtml;\n",
              "          element.appendChild(docLink);\n",
              "        }\n",
              "      </script>\n",
              "    </div>\n",
              "  </div>\n",
              "  "
            ]
          },
          "metadata": {},
          "execution_count": 11
        }
      ],
      "source": [
        "#Display first few rows of Train dataset\n",
        "df_train.head()"
      ]
    },
    {
      "cell_type": "code",
      "execution_count": null,
      "metadata": {
        "colab": {
          "base_uri": "https://localhost:8080/",
          "height": 302
        },
        "id": "0v-92zT4yAYY",
        "outputId": "c31a1a75-0445-40e9-c738-255e6642bce5"
      },
      "outputs": [
        {
          "output_type": "execute_result",
          "data": {
            "text/plain": [
              "                 id                                      name   latitude  \\\n",
              "0  E_00001118ad0191                   Jamu Petani Bagan Serai   5.012169   \n",
              "1  E_000020eb6fed40                              Johnny's Bar  40.434209   \n",
              "2  E_00002f98667edf                                      QIWI  47.215134   \n",
              "3  E_001b6bad66eb98  Gelora Sriwijaya, Jaka Baring Sport City  -3.014675   \n",
              "4  E_0283d9f61e569d                  Stadion Gelora Sriwijaya  -3.021727   \n",
              "\n",
              "    longitude                       address            city          state  \\\n",
              "0  100.535805                           NaN             NaN            NaN   \n",
              "1  -80.564160                 497 N 12th St         Weirton             WV   \n",
              "2   39.686088             Межевая улица, 60  Ростов-на-Дону            NaN   \n",
              "3  104.794374                           NaN             NaN            NaN   \n",
              "4  104.788628  Jalan Gubernur Hasan Bastari       Palembang  South Sumatra   \n",
              "\n",
              "       zip country               url         phone       categories  \n",
              "0      NaN      MY               NaN           NaN            Cafés  \n",
              "1  26062.0      US               NaN           NaN             Bars  \n",
              "2      NaN      RU  https://qiwi.com  7.800301e+10             ATMs  \n",
              "3      NaN      ID               NaN           NaN         Stadiums  \n",
              "4  11480.0      ID               NaN           NaN  Soccer Stadiums  "
            ],
            "text/html": [
              "\n",
              "  <div id=\"df-10667426-2ccd-4a09-933d-40bdf844a3d1\">\n",
              "    <div class=\"colab-df-container\">\n",
              "      <div>\n",
              "<style scoped>\n",
              "    .dataframe tbody tr th:only-of-type {\n",
              "        vertical-align: middle;\n",
              "    }\n",
              "\n",
              "    .dataframe tbody tr th {\n",
              "        vertical-align: top;\n",
              "    }\n",
              "\n",
              "    .dataframe thead th {\n",
              "        text-align: right;\n",
              "    }\n",
              "</style>\n",
              "<table border=\"1\" class=\"dataframe\">\n",
              "  <thead>\n",
              "    <tr style=\"text-align: right;\">\n",
              "      <th></th>\n",
              "      <th>id</th>\n",
              "      <th>name</th>\n",
              "      <th>latitude</th>\n",
              "      <th>longitude</th>\n",
              "      <th>address</th>\n",
              "      <th>city</th>\n",
              "      <th>state</th>\n",
              "      <th>zip</th>\n",
              "      <th>country</th>\n",
              "      <th>url</th>\n",
              "      <th>phone</th>\n",
              "      <th>categories</th>\n",
              "    </tr>\n",
              "  </thead>\n",
              "  <tbody>\n",
              "    <tr>\n",
              "      <th>0</th>\n",
              "      <td>E_00001118ad0191</td>\n",
              "      <td>Jamu Petani Bagan Serai</td>\n",
              "      <td>5.012169</td>\n",
              "      <td>100.535805</td>\n",
              "      <td>NaN</td>\n",
              "      <td>NaN</td>\n",
              "      <td>NaN</td>\n",
              "      <td>NaN</td>\n",
              "      <td>MY</td>\n",
              "      <td>NaN</td>\n",
              "      <td>NaN</td>\n",
              "      <td>Cafés</td>\n",
              "    </tr>\n",
              "    <tr>\n",
              "      <th>1</th>\n",
              "      <td>E_000020eb6fed40</td>\n",
              "      <td>Johnny's Bar</td>\n",
              "      <td>40.434209</td>\n",
              "      <td>-80.564160</td>\n",
              "      <td>497 N 12th St</td>\n",
              "      <td>Weirton</td>\n",
              "      <td>WV</td>\n",
              "      <td>26062.0</td>\n",
              "      <td>US</td>\n",
              "      <td>NaN</td>\n",
              "      <td>NaN</td>\n",
              "      <td>Bars</td>\n",
              "    </tr>\n",
              "    <tr>\n",
              "      <th>2</th>\n",
              "      <td>E_00002f98667edf</td>\n",
              "      <td>QIWI</td>\n",
              "      <td>47.215134</td>\n",
              "      <td>39.686088</td>\n",
              "      <td>Межевая улица, 60</td>\n",
              "      <td>Ростов-на-Дону</td>\n",
              "      <td>NaN</td>\n",
              "      <td>NaN</td>\n",
              "      <td>RU</td>\n",
              "      <td>https://qiwi.com</td>\n",
              "      <td>7.800301e+10</td>\n",
              "      <td>ATMs</td>\n",
              "    </tr>\n",
              "    <tr>\n",
              "      <th>3</th>\n",
              "      <td>E_001b6bad66eb98</td>\n",
              "      <td>Gelora Sriwijaya, Jaka Baring Sport City</td>\n",
              "      <td>-3.014675</td>\n",
              "      <td>104.794374</td>\n",
              "      <td>NaN</td>\n",
              "      <td>NaN</td>\n",
              "      <td>NaN</td>\n",
              "      <td>NaN</td>\n",
              "      <td>ID</td>\n",
              "      <td>NaN</td>\n",
              "      <td>NaN</td>\n",
              "      <td>Stadiums</td>\n",
              "    </tr>\n",
              "    <tr>\n",
              "      <th>4</th>\n",
              "      <td>E_0283d9f61e569d</td>\n",
              "      <td>Stadion Gelora Sriwijaya</td>\n",
              "      <td>-3.021727</td>\n",
              "      <td>104.788628</td>\n",
              "      <td>Jalan Gubernur Hasan Bastari</td>\n",
              "      <td>Palembang</td>\n",
              "      <td>South Sumatra</td>\n",
              "      <td>11480.0</td>\n",
              "      <td>ID</td>\n",
              "      <td>NaN</td>\n",
              "      <td>NaN</td>\n",
              "      <td>Soccer Stadiums</td>\n",
              "    </tr>\n",
              "  </tbody>\n",
              "</table>\n",
              "</div>\n",
              "      <button class=\"colab-df-convert\" onclick=\"convertToInteractive('df-10667426-2ccd-4a09-933d-40bdf844a3d1')\"\n",
              "              title=\"Convert this dataframe to an interactive table.\"\n",
              "              style=\"display:none;\">\n",
              "        \n",
              "  <svg xmlns=\"http://www.w3.org/2000/svg\" height=\"24px\"viewBox=\"0 0 24 24\"\n",
              "       width=\"24px\">\n",
              "    <path d=\"M0 0h24v24H0V0z\" fill=\"none\"/>\n",
              "    <path d=\"M18.56 5.44l.94 2.06.94-2.06 2.06-.94-2.06-.94-.94-2.06-.94 2.06-2.06.94zm-11 1L8.5 8.5l.94-2.06 2.06-.94-2.06-.94L8.5 2.5l-.94 2.06-2.06.94zm10 10l.94 2.06.94-2.06 2.06-.94-2.06-.94-.94-2.06-.94 2.06-2.06.94z\"/><path d=\"M17.41 7.96l-1.37-1.37c-.4-.4-.92-.59-1.43-.59-.52 0-1.04.2-1.43.59L10.3 9.45l-7.72 7.72c-.78.78-.78 2.05 0 2.83L4 21.41c.39.39.9.59 1.41.59.51 0 1.02-.2 1.41-.59l7.78-7.78 2.81-2.81c.8-.78.8-2.07 0-2.86zM5.41 20L4 18.59l7.72-7.72 1.47 1.35L5.41 20z\"/>\n",
              "  </svg>\n",
              "      </button>\n",
              "      \n",
              "  <style>\n",
              "    .colab-df-container {\n",
              "      display:flex;\n",
              "      flex-wrap:wrap;\n",
              "      gap: 12px;\n",
              "    }\n",
              "\n",
              "    .colab-df-convert {\n",
              "      background-color: #E8F0FE;\n",
              "      border: none;\n",
              "      border-radius: 50%;\n",
              "      cursor: pointer;\n",
              "      display: none;\n",
              "      fill: #1967D2;\n",
              "      height: 32px;\n",
              "      padding: 0 0 0 0;\n",
              "      width: 32px;\n",
              "    }\n",
              "\n",
              "    .colab-df-convert:hover {\n",
              "      background-color: #E2EBFA;\n",
              "      box-shadow: 0px 1px 2px rgba(60, 64, 67, 0.3), 0px 1px 3px 1px rgba(60, 64, 67, 0.15);\n",
              "      fill: #174EA6;\n",
              "    }\n",
              "\n",
              "    [theme=dark] .colab-df-convert {\n",
              "      background-color: #3B4455;\n",
              "      fill: #D2E3FC;\n",
              "    }\n",
              "\n",
              "    [theme=dark] .colab-df-convert:hover {\n",
              "      background-color: #434B5C;\n",
              "      box-shadow: 0px 1px 3px 1px rgba(0, 0, 0, 0.15);\n",
              "      filter: drop-shadow(0px 1px 2px rgba(0, 0, 0, 0.3));\n",
              "      fill: #FFFFFF;\n",
              "    }\n",
              "  </style>\n",
              "\n",
              "      <script>\n",
              "        const buttonEl =\n",
              "          document.querySelector('#df-10667426-2ccd-4a09-933d-40bdf844a3d1 button.colab-df-convert');\n",
              "        buttonEl.style.display =\n",
              "          google.colab.kernel.accessAllowed ? 'block' : 'none';\n",
              "\n",
              "        async function convertToInteractive(key) {\n",
              "          const element = document.querySelector('#df-10667426-2ccd-4a09-933d-40bdf844a3d1');\n",
              "          const dataTable =\n",
              "            await google.colab.kernel.invokeFunction('convertToInteractive',\n",
              "                                                     [key], {});\n",
              "          if (!dataTable) return;\n",
              "\n",
              "          const docLinkHtml = 'Like what you see? Visit the ' +\n",
              "            '<a target=\"_blank\" href=https://colab.research.google.com/notebooks/data_table.ipynb>data table notebook</a>'\n",
              "            + ' to learn more about interactive tables.';\n",
              "          element.innerHTML = '';\n",
              "          dataTable['output_type'] = 'display_data';\n",
              "          await google.colab.output.renderOutput(dataTable, element);\n",
              "          const docLink = document.createElement('div');\n",
              "          docLink.innerHTML = docLinkHtml;\n",
              "          element.appendChild(docLink);\n",
              "        }\n",
              "      </script>\n",
              "    </div>\n",
              "  </div>\n",
              "  "
            ]
          },
          "metadata": {},
          "execution_count": 12
        }
      ],
      "source": [
        "#Display first few rows of Test dataset\n",
        "df_test.head()"
      ]
    },
    {
      "cell_type": "code",
      "execution_count": null,
      "metadata": {
        "colab": {
          "base_uri": "https://localhost:8080/"
        },
        "id": "DmglHUYg086W",
        "outputId": "6b514656-4d25-47c7-cd80-7cdb54ae9216"
      },
      "outputs": [
        {
          "output_type": "stream",
          "name": "stdout",
          "text": [
            "id                        0\n",
            "name                      1\n",
            "latitude                  0\n",
            "longitude                 0\n",
            "address              396621\n",
            "city                 299189\n",
            "state                420586\n",
            "zip                  595426\n",
            "country                  11\n",
            "url                  871088\n",
            "phone                795957\n",
            "categories            98307\n",
            "point_of_interest         0\n",
            "dtype: int64\n"
          ]
        }
      ],
      "source": [
        "#Total number of missing values in Train dataset\n",
        "print(df_train.isnull().sum())"
      ]
    },
    {
      "cell_type": "code",
      "execution_count": null,
      "metadata": {
        "colab": {
          "base_uri": "https://localhost:8080/"
        },
        "id": "EDuqwQezj6wO",
        "outputId": "31694819-e583-4b40-c9bf-f247ddb28c43"
      },
      "outputs": [
        {
          "output_type": "stream",
          "name": "stdout",
          "text": [
            "id_1                 0\n",
            "name_1               0\n",
            "latitude_1           0\n",
            "longitude_1          0\n",
            "address_1       103524\n",
            "city_1           65979\n",
            "state_1         126591\n",
            "zip_1           219398\n",
            "country_1            8\n",
            "url_1           347101\n",
            "phone_1         308885\n",
            "categories_1     16294\n",
            "id_2                 0\n",
            "name_2               0\n",
            "latitude_2           0\n",
            "longitude_2          0\n",
            "address_2       266410\n",
            "city_2          211417\n",
            "state_2         269218\n",
            "zip_2           354080\n",
            "country_2            6\n",
            "url_2           494057\n",
            "phone_2         459944\n",
            "categories_2     75976\n",
            "match                0\n",
            "dtype: int64\n"
          ]
        }
      ],
      "source": [
        "#Missing values in pairs dataset\n",
        "print(pairs.isnull().sum())"
      ]
    },
    {
      "cell_type": "code",
      "execution_count": null,
      "metadata": {
        "colab": {
          "base_uri": "https://localhost:8080/",
          "height": 409
        },
        "id": "5nBRqWv10jpe",
        "outputId": "613d8f91-8fe0-49a6-e09f-13a3e4bcc567"
      },
      "outputs": [
        {
          "output_type": "display_data",
          "data": {
            "text/plain": [
              "<Figure size 1080x360 with 2 Axes>"
            ],
            "image/png": "[encoded data removed]"
          },
          "metadata": {
            "needs_background": "light"
          }
        }
      ],
      "source": [
        "# How many missing values for each example\n",
        "fig, axs = plt.subplots(1, 2, figsize=(15, 5))\n",
        "df_train.isna().mean().sort_values(ascending=False).plot(\n",
        "    kind=\"bar\", title=\"Missing Values by Variable\", ax=axs[0]\n",
        ")\n",
        "axs[0].set_ylabel(\"% of Missing Values\")\n",
        "\n",
        "df_train.isna().sum(axis=1).value_counts().sort_index().plot(\n",
        "    ax=axs[1], title=\"Missing Values by Observation\", kind=\"bar\"\n",
        ")\n",
        "\n",
        "#Plot visualization for missing values by variable\n",
        "axs[1].set_xlabel(\"Number of Missing Variable\")\n",
        "axs[1].set_ylabel(\"Number of Observations\")\n",
        "plt.xticks(rotation=0)\n",
        "plt.show()"
      ]
    },
    {
      "cell_type": "code",
      "execution_count": null,
      "metadata": {
        "colab": {
          "base_uri": "https://localhost:8080/"
        },
        "id": "KbQ8vQeIsdoR",
        "outputId": "c972c2c3-8799-477f-e369-c80b62b31689"
      },
      "outputs": [
        {
          "output_type": "execute_result",
          "data": {
            "text/plain": [
              "id                   1138812\n",
              "name                  842086\n",
              "latitude             1121701\n",
              "longitude            1080273\n",
              "address               558154\n",
              "city                   68105\n",
              "state                  17596\n",
              "zip                    93329\n",
              "country                  221\n",
              "url                   171222\n",
              "phone                 293454\n",
              "categories             52578\n",
              "point_of_interest     739972\n",
              "dtype: int64"
            ]
          },
          "metadata": {},
          "execution_count": 16
        }
      ],
      "source": [
        "#Display number of unique values for each variable for train dataset\n",
        "df_train.nunique()"
      ]
    },
    {
      "cell_type": "code",
      "execution_count": null,
      "metadata": {
        "colab": {
          "base_uri": "https://localhost:8080/",
          "height": 508
        },
        "id": "RNFktZCss1-n",
        "outputId": "8a4eef8a-91ab-4c0e-fe97-08e1431f98a4"
      },
      "outputs": [
        {
          "output_type": "execute_result",
          "data": {
            "text/plain": [
              "               id_1                name_1  latitude_1  longitude_1  \\\n",
              "0  E_000001272c6c5d  Café Stad Oudenaarde   50.859975     3.634196   \n",
              "1  E_000008a8ba4f48              Turkcell   37.844510    27.844202   \n",
              "2  E_000023d8f4be44            Island Spa   14.518970   121.018702   \n",
              "3  E_00007dcd2bb53f     TOGO'S Sandwiches   38.257797  -122.064599   \n",
              "4  E_0000c362229d93            Coffee Cat    7.082218   125.610244   \n",
              "\n",
              "                                     address_1      city_1          state_1  \\\n",
              "0                                  Abdijstraat  Nederename  Oost-Vlaanderen   \n",
              "1                       Adnan Menderes Bulvarı         NaN              NaN   \n",
              "2  5th Flr, Newport Mall, Resorts World Manila  Pasay City     Metro Manila   \n",
              "3                     1380 Holiday Ln., Ste. B   Fairfield               CA   \n",
              "4                                F. Torres St.  Davao City     Davao Region   \n",
              "\n",
              "   zip_1 country_1                                              url_1  ...  \\\n",
              "0   9700        BE                                                NaN  ...   \n",
              "1    NaN        TR                                                NaN  ...   \n",
              "2    NaN        PH                                                NaN  ...   \n",
              "3  94534        US  https://locations.togos.com/ll/US/CA/Fairfield...  ...   \n",
              "4   8000        PH                                                NaN  ...   \n",
              "\n",
              "  longitude_2             address_2      city_2       state_2  zip_2  \\\n",
              "0    3.635206                   NaN         NaN           NaN    NaN   \n",
              "1   27.845560            batı aydın       aydın           NaN  67500   \n",
              "2  121.019827                   NaN         NaN           NaN    NaN   \n",
              "3 -122.064606                   NaN   Fairfield            CA    NaN   \n",
              "4  125.611457  E. Jacinto Extension  Davao City  Davao Region   8000   \n",
              "\n",
              "   country_2 url_2 phone_2                        categories_2  match  \n",
              "0         BE   NaN     NaN                                Bars   True  \n",
              "1         TR   NaN     NaN                  Electronics Stores  False  \n",
              "2         PH   NaN     NaN                                Spas   True  \n",
              "3         US   NaN     NaN                     Sandwich Places   True  \n",
              "4         PH   NaN     NaN  Coffee Shops, Cafés, Dessert Shops  False  \n",
              "\n",
              "[5 rows x 25 columns]"
            ],
            "text/html": [
              "\n",
              "  <div id=\"df-270ed57e-6f80-4637-9611-ff91e00af370\">\n",
              "    <div class=\"colab-df-container\">\n",
              "      <div>\n",
              "<style scoped>\n",
              "    .dataframe tbody tr th:only-of-type {\n",
              "        vertical-align: middle;\n",
              "    }\n",
              "\n",
              "    .dataframe tbody tr th {\n",
              "        vertical-align: top;\n",
              "    }\n",
              "\n",
              "    .dataframe thead th {\n",
              "        text-align: right;\n",
              "    }\n",
              "</style>\n",
              "<table border=\"1\" class=\"dataframe\">\n",
              "  <thead>\n",
              "    <tr style=\"text-align: right;\">\n",
              "      <th></th>\n",
              "      <th>id_1</th>\n",
              "      <th>name_1</th>\n",
              "      <th>latitude_1</th>\n",
              "      <th>longitude_1</th>\n",
              "      <th>address_1</th>\n",
              "      <th>city_1</th>\n",
              "      <th>state_1</th>\n",
              "      <th>zip_1</th>\n",
              "      <th>country_1</th>\n",
              "      <th>url_1</th>\n",
              "      <th>...</th>\n",
              "      <th>longitude_2</th>\n",
              "      <th>address_2</th>\n",
              "      <th>city_2</th>\n",
              "      <th>state_2</th>\n",
              "      <th>zip_2</th>\n",
              "      <th>country_2</th>\n",
              "      <th>url_2</th>\n",
              "      <th>phone_2</th>\n",
              "      <th>categories_2</th>\n",
              "      <th>match</th>\n",
              "    </tr>\n",
              "  </thead>\n",
              "  <tbody>\n",
              "    <tr>\n",
              "      <th>0</th>\n",
              "      <td>E_000001272c6c5d</td>\n",
              "      <td>Café Stad Oudenaarde</td>\n",
              "      <td>50.859975</td>\n",
              "      <td>3.634196</td>\n",
              "      <td>Abdijstraat</td>\n",
              "      <td>Nederename</td>\n",
              "      <td>Oost-Vlaanderen</td>\n",
              "      <td>9700</td>\n",
              "      <td>BE</td>\n",
              "      <td>NaN</td>\n",
              "      <td>...</td>\n",
              "      <td>3.635206</td>\n",
              "      <td>NaN</td>\n",
              "      <td>NaN</td>\n",
              "      <td>NaN</td>\n",
              "      <td>NaN</td>\n",
              "      <td>BE</td>\n",
              "      <td>NaN</td>\n",
              "      <td>NaN</td>\n",
              "      <td>Bars</td>\n",
              "      <td>True</td>\n",
              "    </tr>\n",
              "    <tr>\n",
              "      <th>1</th>\n",
              "      <td>E_000008a8ba4f48</td>\n",
              "      <td>Turkcell</td>\n",
              "      <td>37.844510</td>\n",
              "      <td>27.844202</td>\n",
              "      <td>Adnan Menderes Bulvarı</td>\n",
              "      <td>NaN</td>\n",
              "      <td>NaN</td>\n",
              "      <td>NaN</td>\n",
              "      <td>TR</td>\n",
              "      <td>NaN</td>\n",
              "      <td>...</td>\n",
              "      <td>27.845560</td>\n",
              "      <td>batı aydın</td>\n",
              "      <td>aydın</td>\n",
              "      <td>NaN</td>\n",
              "      <td>67500</td>\n",
              "      <td>TR</td>\n",
              "      <td>NaN</td>\n",
              "      <td>NaN</td>\n",
              "      <td>Electronics Stores</td>\n",
              "      <td>False</td>\n",
              "    </tr>\n",
              "    <tr>\n",
              "      <th>2</th>\n",
              "      <td>E_000023d8f4be44</td>\n",
              "      <td>Island Spa</td>\n",
              "      <td>14.518970</td>\n",
              "      <td>121.018702</td>\n",
              "      <td>5th Flr, Newport Mall, Resorts World Manila</td>\n",
              "      <td>Pasay City</td>\n",
              "      <td>Metro Manila</td>\n",
              "      <td>NaN</td>\n",
              "      <td>PH</td>\n",
              "      <td>NaN</td>\n",
              "      <td>...</td>\n",
              "      <td>121.019827</td>\n",
              "      <td>NaN</td>\n",
              "      <td>NaN</td>\n",
              "      <td>NaN</td>\n",
              "      <td>NaN</td>\n",
              "      <td>PH</td>\n",
              "      <td>NaN</td>\n",
              "      <td>NaN</td>\n",
              "      <td>Spas</td>\n",
              "      <td>True</td>\n",
              "    </tr>\n",
              "    <tr>\n",
              "      <th>3</th>\n",
              "      <td>E_00007dcd2bb53f</td>\n",
              "      <td>TOGO'S Sandwiches</td>\n",
              "      <td>38.257797</td>\n",
              "      <td>-122.064599</td>\n",
              "      <td>1380 Holiday Ln., Ste. B</td>\n",
              "      <td>Fairfield</td>\n",
              "      <td>CA</td>\n",
              "      <td>94534</td>\n",
              "      <td>US</td>\n",
              "      <td>https://locations.togos.com/ll/US/CA/Fairfield...</td>\n",
              "      <td>...</td>\n",
              "      <td>-122.064606</td>\n",
              "      <td>NaN</td>\n",
              "      <td>Fairfield</td>\n",
              "      <td>CA</td>\n",
              "      <td>NaN</td>\n",
              "      <td>US</td>\n",
              "      <td>NaN</td>\n",
              "      <td>NaN</td>\n",
              "      <td>Sandwich Places</td>\n",
              "      <td>True</td>\n",
              "    </tr>\n",
              "    <tr>\n",
              "      <th>4</th>\n",
              "      <td>E_0000c362229d93</td>\n",
              "      <td>Coffee Cat</td>\n",
              "      <td>7.082218</td>\n",
              "      <td>125.610244</td>\n",
              "      <td>F. Torres St.</td>\n",
              "      <td>Davao City</td>\n",
              "      <td>Davao Region</td>\n",
              "      <td>8000</td>\n",
              "      <td>PH</td>\n",
              "      <td>NaN</td>\n",
              "      <td>...</td>\n",
              "      <td>125.611457</td>\n",
              "      <td>E. Jacinto Extension</td>\n",
              "      <td>Davao City</td>\n",
              "      <td>Davao Region</td>\n",
              "      <td>8000</td>\n",
              "      <td>PH</td>\n",
              "      <td>NaN</td>\n",
              "      <td>NaN</td>\n",
              "      <td>Coffee Shops, Cafés, Dessert Shops</td>\n",
              "      <td>False</td>\n",
              "    </tr>\n",
              "  </tbody>\n",
              "</table>\n",
              "<p>5 rows × 25 columns</p>\n",
              "</div>\n",
              "      <button class=\"colab-df-convert\" onclick=\"convertToInteractive('df-270ed57e-6f80-4637-9611-ff91e00af370')\"\n",
              "              title=\"Convert this dataframe to an interactive table.\"\n",
              "              style=\"display:none;\">\n",
              "        \n",
              "  <svg xmlns=\"http://www.w3.org/2000/svg\" height=\"24px\"viewBox=\"0 0 24 24\"\n",
              "       width=\"24px\">\n",
              "    <path d=\"M0 0h24v24H0V0z\" fill=\"none\"/>\n",
              "    <path d=\"M18.56 5.44l.94 2.06.94-2.06 2.06-.94-2.06-.94-.94-2.06-.94 2.06-2.06.94zm-11 1L8.5 8.5l.94-2.06 2.06-.94-2.06-.94L8.5 2.5l-.94 2.06-2.06.94zm10 10l.94 2.06.94-2.06 2.06-.94-2.06-.94-.94-2.06-.94 2.06-2.06.94z\"/><path d=\"M17.41 7.96l-1.37-1.37c-.4-.4-.92-.59-1.43-.59-.52 0-1.04.2-1.43.59L10.3 9.45l-7.72 7.72c-.78.78-.78 2.05 0 2.83L4 21.41c.39.39.9.59 1.41.59.51 0 1.02-.2 1.41-.59l7.78-7.78 2.81-2.81c.8-.78.8-2.07 0-2.86zM5.41 20L4 18.59l7.72-7.72 1.47 1.35L5.41 20z\"/>\n",
              "  </svg>\n",
              "      </button>\n",
              "      \n",
              "  <style>\n",
              "    .colab-df-container {\n",
              "      display:flex;\n",
              "      flex-wrap:wrap;\n",
              "      gap: 12px;\n",
              "    }\n",
              "\n",
              "    .colab-df-convert {\n",
              "      background-color: #E8F0FE;\n",
              "      border: none;\n",
              "      border-radius: 50%;\n",
              "      cursor: pointer;\n",
              "      display: none;\n",
              "      fill: #1967D2;\n",
              "      height: 32px;\n",
              "      padding: 0 0 0 0;\n",
              "      width: 32px;\n",
              "    }\n",
              "\n",
              "    .colab-df-convert:hover {\n",
              "      background-color: #E2EBFA;\n",
              "      box-shadow: 0px 1px 2px rgba(60, 64, 67, 0.3), 0px 1px 3px 1px rgba(60, 64, 67, 0.15);\n",
              "      fill: #174EA6;\n",
              "    }\n",
              "\n",
              "    [theme=dark] .colab-df-convert {\n",
              "      background-color: #3B4455;\n",
              "      fill: #D2E3FC;\n",
              "    }\n",
              "\n",
              "    [theme=dark] .colab-df-convert:hover {\n",
              "      background-color: #434B5C;\n",
              "      box-shadow: 0px 1px 3px 1px rgba(0, 0, 0, 0.15);\n",
              "      filter: drop-shadow(0px 1px 2px rgba(0, 0, 0, 0.3));\n",
              "      fill: #FFFFFF;\n",
              "    }\n",
              "  </style>\n",
              "\n",
              "      <script>\n",
              "        const buttonEl =\n",
              "          document.querySelector('#df-270ed57e-6f80-4637-9611-ff91e00af370 button.colab-df-convert');\n",
              "        buttonEl.style.display =\n",
              "          google.colab.kernel.accessAllowed ? 'block' : 'none';\n",
              "\n",
              "        async function convertToInteractive(key) {\n",
              "          const element = document.querySelector('#df-270ed57e-6f80-4637-9611-ff91e00af370');\n",
              "          const dataTable =\n",
              "            await google.colab.kernel.invokeFunction('convertToInteractive',\n",
              "                                                     [key], {});\n",
              "          if (!dataTable) return;\n",
              "\n",
              "          const docLinkHtml = 'Like what you see? Visit the ' +\n",
              "            '<a target=\"_blank\" href=https://colab.research.google.com/notebooks/data_table.ipynb>data table notebook</a>'\n",
              "            + ' to learn more about interactive tables.';\n",
              "          element.innerHTML = '';\n",
              "          dataTable['output_type'] = 'display_data';\n",
              "          await google.colab.output.renderOutput(dataTable, element);\n",
              "          const docLink = document.createElement('div');\n",
              "          docLink.innerHTML = docLinkHtml;\n",
              "          element.appendChild(docLink);\n",
              "        }\n",
              "      </script>\n",
              "    </div>\n",
              "  </div>\n",
              "  "
            ]
          },
          "metadata": {},
          "execution_count": 17
        }
      ],
      "source": [
        "#Display first few rows of Pairs dataframe\n",
        "pairs.head()"
      ]
    },
    {
      "cell_type": "code",
      "execution_count": null,
      "metadata": {
        "colab": {
          "base_uri": "https://localhost:8080/",
          "height": 300
        },
        "id": "vKU3R-q7tAon",
        "outputId": "f5620204-dd7b-4bca-a0f4-43ff6a4d1f62"
      },
      "outputs": [
        {
          "output_type": "execute_result",
          "data": {
            "text/plain": [
              "          latitude_1    longitude_1     latitude_2    longitude_2\n",
              "count  578907.000000  578907.000000  578907.000000  578907.000000\n",
              "mean       26.104358      24.759940      26.092840      24.785947\n",
              "std        23.210853      82.244791      23.213278      82.250231\n",
              "min       -80.857570    -175.141634     -84.927740    -175.160248\n",
              "25%         6.032218     -61.467652       5.987273     -61.462669\n",
              "50%        35.623278      30.214258      35.618854      30.220696\n",
              "75%        41.290456     103.844485      41.285191     103.845012\n",
              "max        84.928321     178.437698      85.051128     178.440386"
            ],
            "text/html": [
              "\n",
              "  <div id=\"df-1c462136-d977-40a3-9ea8-15944ecaab30\">\n",
              "    <div class=\"colab-df-container\">\n",
              "      <div>\n",
              "<style scoped>\n",
              "    .dataframe tbody tr th:only-of-type {\n",
              "        vertical-align: middle;\n",
              "    }\n",
              "\n",
              "    .dataframe tbody tr th {\n",
              "        vertical-align: top;\n",
              "    }\n",
              "\n",
              "    .dataframe thead th {\n",
              "        text-align: right;\n",
              "    }\n",
              "</style>\n",
              "<table border=\"1\" class=\"dataframe\">\n",
              "  <thead>\n",
              "    <tr style=\"text-align: right;\">\n",
              "      <th></th>\n",
              "      <th>latitude_1</th>\n",
              "      <th>longitude_1</th>\n",
              "      <th>latitude_2</th>\n",
              "      <th>longitude_2</th>\n",
              "    </tr>\n",
              "  </thead>\n",
              "  <tbody>\n",
              "    <tr>\n",
              "      <th>count</th>\n",
              "      <td>578907.000000</td>\n",
              "      <td>578907.000000</td>\n",
              "      <td>578907.000000</td>\n",
              "      <td>578907.000000</td>\n",
              "    </tr>\n",
              "    <tr>\n",
              "      <th>mean</th>\n",
              "      <td>26.104358</td>\n",
              "      <td>24.759940</td>\n",
              "      <td>26.092840</td>\n",
              "      <td>24.785947</td>\n",
              "    </tr>\n",
              "    <tr>\n",
              "      <th>std</th>\n",
              "      <td>23.210853</td>\n",
              "      <td>82.244791</td>\n",
              "      <td>23.213278</td>\n",
              "      <td>82.250231</td>\n",
              "    </tr>\n",
              "    <tr>\n",
              "      <th>min</th>\n",
              "      <td>-80.857570</td>\n",
              "      <td>-175.141634</td>\n",
              "      <td>-84.927740</td>\n",
              "      <td>-175.160248</td>\n",
              "    </tr>\n",
              "    <tr>\n",
              "      <th>25%</th>\n",
              "      <td>6.032218</td>\n",
              "      <td>-61.467652</td>\n",
              "      <td>5.987273</td>\n",
              "      <td>-61.462669</td>\n",
              "    </tr>\n",
              "    <tr>\n",
              "      <th>50%</th>\n",
              "      <td>35.623278</td>\n",
              "      <td>30.214258</td>\n",
              "      <td>35.618854</td>\n",
              "      <td>30.220696</td>\n",
              "    </tr>\n",
              "    <tr>\n",
              "      <th>75%</th>\n",
              "      <td>41.290456</td>\n",
              "      <td>103.844485</td>\n",
              "      <td>41.285191</td>\n",
              "      <td>103.845012</td>\n",
              "    </tr>\n",
              "    <tr>\n",
              "      <th>max</th>\n",
              "      <td>84.928321</td>\n",
              "      <td>178.437698</td>\n",
              "      <td>85.051128</td>\n",
              "      <td>178.440386</td>\n",
              "    </tr>\n",
              "  </tbody>\n",
              "</table>\n",
              "</div>\n",
              "      <button class=\"colab-df-convert\" onclick=\"convertToInteractive('df-1c462136-d977-40a3-9ea8-15944ecaab30')\"\n",
              "              title=\"Convert this dataframe to an interactive table.\"\n",
              "              style=\"display:none;\">\n",
              "        \n",
              "  <svg xmlns=\"http://www.w3.org/2000/svg\" height=\"24px\"viewBox=\"0 0 24 24\"\n",
              "       width=\"24px\">\n",
              "    <path d=\"M0 0h24v24H0V0z\" fill=\"none\"/>\n",
              "    <path d=\"M18.56 5.44l.94 2.06.94-2.06 2.06-.94-2.06-.94-.94-2.06-.94 2.06-2.06.94zm-11 1L8.5 8.5l.94-2.06 2.06-.94-2.06-.94L8.5 2.5l-.94 2.06-2.06.94zm10 10l.94 2.06.94-2.06 2.06-.94-2.06-.94-.94-2.06-.94 2.06-2.06.94z\"/><path d=\"M17.41 7.96l-1.37-1.37c-.4-.4-.92-.59-1.43-.59-.52 0-1.04.2-1.43.59L10.3 9.45l-7.72 7.72c-.78.78-.78 2.05 0 2.83L4 21.41c.39.39.9.59 1.41.59.51 0 1.02-.2 1.41-.59l7.78-7.78 2.81-2.81c.8-.78.8-2.07 0-2.86zM5.41 20L4 18.59l7.72-7.72 1.47 1.35L5.41 20z\"/>\n",
              "  </svg>\n",
              "      </button>\n",
              "      \n",
              "  <style>\n",
              "    .colab-df-container {\n",
              "      display:flex;\n",
              "      flex-wrap:wrap;\n",
              "      gap: 12px;\n",
              "    }\n",
              "\n",
              "    .colab-df-convert {\n",
              "      background-color: #E8F0FE;\n",
              "      border: none;\n",
              "      border-radius: 50%;\n",
              "      cursor: pointer;\n",
              "      display: none;\n",
              "      fill: #1967D2;\n",
              "      height: 32px;\n",
              "      padding: 0 0 0 0;\n",
              "      width: 32px;\n",
              "    }\n",
              "\n",
              "    .colab-df-convert:hover {\n",
              "      background-color: #E2EBFA;\n",
              "      box-shadow: 0px 1px 2px rgba(60, 64, 67, 0.3), 0px 1px 3px 1px rgba(60, 64, 67, 0.15);\n",
              "      fill: #174EA6;\n",
              "    }\n",
              "\n",
              "    [theme=dark] .colab-df-convert {\n",
              "      background-color: #3B4455;\n",
              "      fill: #D2E3FC;\n",
              "    }\n",
              "\n",
              "    [theme=dark] .colab-df-convert:hover {\n",
              "      background-color: #434B5C;\n",
              "      box-shadow: 0px 1px 3px 1px rgba(0, 0, 0, 0.15);\n",
              "      filter: drop-shadow(0px 1px 2px rgba(0, 0, 0, 0.3));\n",
              "      fill: #FFFFFF;\n",
              "    }\n",
              "  </style>\n",
              "\n",
              "      <script>\n",
              "        const buttonEl =\n",
              "          document.querySelector('#df-1c462136-d977-40a3-9ea8-15944ecaab30 button.colab-df-convert');\n",
              "        buttonEl.style.display =\n",
              "          google.colab.kernel.accessAllowed ? 'block' : 'none';\n",
              "\n",
              "        async function convertToInteractive(key) {\n",
              "          const element = document.querySelector('#df-1c462136-d977-40a3-9ea8-15944ecaab30');\n",
              "          const dataTable =\n",
              "            await google.colab.kernel.invokeFunction('convertToInteractive',\n",
              "                                                     [key], {});\n",
              "          if (!dataTable) return;\n",
              "\n",
              "          const docLinkHtml = 'Like what you see? Visit the ' +\n",
              "            '<a target=\"_blank\" href=https://colab.research.google.com/notebooks/data_table.ipynb>data table notebook</a>'\n",
              "            + ' to learn more about interactive tables.';\n",
              "          element.innerHTML = '';\n",
              "          dataTable['output_type'] = 'display_data';\n",
              "          await google.colab.output.renderOutput(dataTable, element);\n",
              "          const docLink = document.createElement('div');\n",
              "          docLink.innerHTML = docLinkHtml;\n",
              "          element.appendChild(docLink);\n",
              "        }\n",
              "      </script>\n",
              "    </div>\n",
              "  </div>\n",
              "  "
            ]
          },
          "metadata": {},
          "execution_count": 18
        }
      ],
      "source": [
        "#Statistical summary for Pairs dataset\n",
        "pairs.describe()"
      ]
    },
    {
      "cell_type": "code",
      "execution_count": null,
      "metadata": {
        "colab": {
          "base_uri": "https://localhost:8080/",
          "height": 458
        },
        "id": "inM5lts9w569",
        "outputId": "a77bb931-214f-457c-efd5-b3fc1ac2c42c"
      },
      "outputs": [
        {
          "output_type": "display_data",
          "data": {
            "text/plain": [
              "<Figure size 576x504 with 1 Axes>"
            ],
            "image/png": "[encoded data removed]"
          },
          "metadata": {
            "needs_background": "light"
          }
        }
      ],
      "source": [
        "#Plot percentage of data by country in Train dataset\n",
        "country_stats=df_train['country'].value_counts()*100/df_train['country'].value_counts().sum()\n",
        "country_stats=country_stats.head(10)\n",
        "\n",
        "plt.figure(figsize=(8,7))\n",
        "color=[\"gray\"]*len(country_stats.index)\n",
        "color[0]=\"aqua\"\n",
        "sns.barplot(x=country_stats.index, y=country_stats.values,palette=color, saturation=.5)#, palette=clrs) # color=clrs)\n",
        "plt.title(\"% Data by Country\")\n",
        "plt.xlabel('country')\n",
        "_=plt.ylabel('Percentage')"
      ]
    },
    {
      "cell_type": "markdown",
      "metadata": {
        "id": "kQ5Vg8WzxOC1"
      },
      "source": [
        "From the graph it can be seen that US has the most data entries"
      ]
    },
    {
      "cell_type": "code",
      "execution_count": null,
      "metadata": {
        "colab": {
          "base_uri": "https://localhost:8080/",
          "height": 458
        },
        "id": "kRjtKGjgUobE",
        "outputId": "804fa9a3-951a-4a50-a2ac-5839b02cf741"
      },
      "outputs": [
        {
          "output_type": "display_data",
          "data": {
            "text/plain": [
              "<Figure size 576x504 with 1 Axes>"
            ],
            "image/png": "[encoded data removed]"
          },
          "metadata": {
            "needs_background": "light"
          }
        }
      ],
      "source": [
        "#Plot percentage of data by state in the US\n",
        "state_stats=df_train[df_train['country']=='US']['state'].value_counts()*100/df_train[df_train['country']=='US']['state'].value_counts().sum()\n",
        "state_stats=state_stats.head(10)\n",
        "\n",
        "plt.figure(figsize=(8,7))\n",
        "color=[\"gray\"]*len(state_stats.index)\n",
        "color[0]=\"aqua\"\n",
        "sns.barplot(x=state_stats.index, y=state_stats.values,palette=color, saturation=.5)#, palette=clrs) # color=clrs)\n",
        "plt.title(\"% Data by State\")\n",
        "plt.xlabel('State')\n",
        "_=plt.ylabel('Percentage')"
      ]
    },
    {
      "cell_type": "code",
      "execution_count": null,
      "metadata": {
        "colab": {
          "base_uri": "https://localhost:8080/",
          "height": 516
        },
        "id": "Clgf7F3CInqt",
        "outputId": "d5fb49a4-eec4-436a-c490-0c44662493f5"
      },
      "outputs": [
        {
          "output_type": "stream",
          "name": "stdout",
          "text": [
            "There are 52578 unique categories\n"
          ]
        },
        {
          "output_type": "display_data",
          "data": {
            "text/plain": [
              "<Figure size 360x576 with 1 Axes>"
            ],
            "image/png": "[encoded data removed]"
          },
          "metadata": {
            "needs_background": "light"
          }
        }
      ],
      "source": [
        "#Plot the most frequent categories in the Train dataset\n",
        "print(f'There are {df_train[\"categories\"].nunique()} unique categories')\n",
        "\n",
        "# Take a look at the most frequent categories\n",
        "df_train[\"categories\"].value_counts().to_frame().query(\"categories > 5_000\")[\n",
        "    \"categories\"\n",
        "].sort_values(ascending=True).plot(\n",
        "    kind=\"barh\", title=\"Most Frequent Categories\", figsize=(5, 8)\n",
        ")\n",
        "plt.show()"
      ]
    },
    {
      "cell_type": "code",
      "source": [
        "#Drop unwanted variables from pairs dataset\n",
        "pairs = pairs.drop(['address_1','city_1','state_1','zip_1','url_1','phone_1','address_2','city_2','state_2','zip_2','url_2','phone_2'],axis=1)\n",
        "pairs = pairs.fillna(\"__nan__\")\n",
        "pairs.head()"
      ],
      "metadata": {
        "id": "xOMpAx37UOed",
        "colab": {
          "base_uri": "https://localhost:8080/",
          "height": 337
        },
        "outputId": "63510506-ce56-461b-9a30-475423d2223d"
      },
      "execution_count": null,
      "outputs": [
        {
          "output_type": "execute_result",
          "data": {
            "text/plain": [
              "               id_1                name_1  latitude_1  longitude_1 country_1  \\\n",
              "0  E_000001272c6c5d  Café Stad Oudenaarde   50.859975     3.634196        BE   \n",
              "1  E_000008a8ba4f48              Turkcell   37.844510    27.844202        TR   \n",
              "2  E_000023d8f4be44            Island Spa   14.518970   121.018702        PH   \n",
              "3  E_00007dcd2bb53f     TOGO'S Sandwiches   38.257797  -122.064599        US   \n",
              "4  E_0000c362229d93            Coffee Cat    7.082218   125.610244        PH   \n",
              "\n",
              "          categories_1              id_2              name_2  latitude_2  \\\n",
              "0                 Bars  E_da7fa3963561f8     Café Oudenaarde   50.869358   \n",
              "1   Mobile Phone Shops  E_3f12df0b045062            Turkcell   37.838020   \n",
              "2                 Spas  E_12453effe251db  Island Spa Theater   14.518330   \n",
              "3      Sandwich Places  E_f131dcb7f07be9              Togo's   38.257938   \n",
              "4  Cafés, Coffee Shops  E_d52c3c4d53831c           Coffeecat    7.076016   \n",
              "\n",
              "   longitude_2 country_2                        categories_2  match  \n",
              "0     3.635206        BE                                Bars   True  \n",
              "1    27.845560        TR                  Electronics Stores  False  \n",
              "2   121.019827        PH                                Spas   True  \n",
              "3  -122.064606        US                     Sandwich Places   True  \n",
              "4   125.611457        PH  Coffee Shops, Cafés, Dessert Shops  False  "
            ],
            "text/html": [
              "\n",
              "  <div id=\"df-906b7ba9-d043-4c75-806f-4b1e1369ec1d\">\n",
              "    <div class=\"colab-df-container\">\n",
              "      <div>\n",
              "<style scoped>\n",
              "    .dataframe tbody tr th:only-of-type {\n",
              "        vertical-align: middle;\n",
              "    }\n",
              "\n",
              "    .dataframe tbody tr th {\n",
              "        vertical-align: top;\n",
              "    }\n",
              "\n",
              "    .dataframe thead th {\n",
              "        text-align: right;\n",
              "    }\n",
              "</style>\n",
              "<table border=\"1\" class=\"dataframe\">\n",
              "  <thead>\n",
              "    <tr style=\"text-align: right;\">\n",
              "      <th></th>\n",
              "      <th>id_1</th>\n",
              "      <th>name_1</th>\n",
              "      <th>latitude_1</th>\n",
              "      <th>longitude_1</th>\n",
              "      <th>country_1</th>\n",
              "      <th>categories_1</th>\n",
              "      <th>id_2</th>\n",
              "      <th>name_2</th>\n",
              "      <th>latitude_2</th>\n",
              "      <th>longitude_2</th>\n",
              "      <th>country_2</th>\n",
              "      <th>categories_2</th>\n",
              "      <th>match</th>\n",
              "    </tr>\n",
              "  </thead>\n",
              "  <tbody>\n",
              "    <tr>\n",
              "      <th>0</th>\n",
              "      <td>E_000001272c6c5d</td>\n",
              "      <td>Café Stad Oudenaarde</td>\n",
              "      <td>50.859975</td>\n",
              "      <td>3.634196</td>\n",
              "      <td>BE</td>\n",
              "      <td>Bars</td>\n",
              "      <td>E_da7fa3963561f8</td>\n",
              "      <td>Café Oudenaarde</td>\n",
              "      <td>50.869358</td>\n",
              "      <td>3.635206</td>\n",
              "      <td>BE</td>\n",
              "      <td>Bars</td>\n",
              "      <td>True</td>\n",
              "    </tr>\n",
              "    <tr>\n",
              "      <th>1</th>\n",
              "      <td>E_000008a8ba4f48</td>\n",
              "      <td>Turkcell</td>\n",
              "      <td>37.844510</td>\n",
              "      <td>27.844202</td>\n",
              "      <td>TR</td>\n",
              "      <td>Mobile Phone Shops</td>\n",
              "      <td>E_3f12df0b045062</td>\n",
              "      <td>Turkcell</td>\n",
              "      <td>37.838020</td>\n",
              "      <td>27.845560</td>\n",
              "      <td>TR</td>\n",
              "      <td>Electronics Stores</td>\n",
              "      <td>False</td>\n",
              "    </tr>\n",
              "    <tr>\n",
              "      <th>2</th>\n",
              "      <td>E_000023d8f4be44</td>\n",
              "      <td>Island Spa</td>\n",
              "      <td>14.518970</td>\n",
              "      <td>121.018702</td>\n",
              "      <td>PH</td>\n",
              "      <td>Spas</td>\n",
              "      <td>E_12453effe251db</td>\n",
              "      <td>Island Spa Theater</td>\n",
              "      <td>14.518330</td>\n",
              "      <td>121.019827</td>\n",
              "      <td>PH</td>\n",
              "      <td>Spas</td>\n",
              "      <td>True</td>\n",
              "    </tr>\n",
              "    <tr>\n",
              "      <th>3</th>\n",
              "      <td>E_00007dcd2bb53f</td>\n",
              "      <td>TOGO'S Sandwiches</td>\n",
              "      <td>38.257797</td>\n",
              "      <td>-122.064599</td>\n",
              "      <td>US</td>\n",
              "      <td>Sandwich Places</td>\n",
              "      <td>E_f131dcb7f07be9</td>\n",
              "      <td>Togo's</td>\n",
              "      <td>38.257938</td>\n",
              "      <td>-122.064606</td>\n",
              "      <td>US</td>\n",
              "      <td>Sandwich Places</td>\n",
              "      <td>True</td>\n",
              "    </tr>\n",
              "    <tr>\n",
              "      <th>4</th>\n",
              "      <td>E_0000c362229d93</td>\n",
              "      <td>Coffee Cat</td>\n",
              "      <td>7.082218</td>\n",
              "      <td>125.610244</td>\n",
              "      <td>PH</td>\n",
              "      <td>Cafés, Coffee Shops</td>\n",
              "      <td>E_d52c3c4d53831c</td>\n",
              "      <td>Coffeecat</td>\n",
              "      <td>7.076016</td>\n",
              "      <td>125.611457</td>\n",
              "      <td>PH</td>\n",
              "      <td>Coffee Shops, Cafés, Dessert Shops</td>\n",
              "      <td>False</td>\n",
              "    </tr>\n",
              "  </tbody>\n",
              "</table>\n",
              "</div>\n",
              "      <button class=\"colab-df-convert\" onclick=\"convertToInteractive('df-906b7ba9-d043-4c75-806f-4b1e1369ec1d')\"\n",
              "              title=\"Convert this dataframe to an interactive table.\"\n",
              "              style=\"display:none;\">\n",
              "        \n",
              "  <svg xmlns=\"http://www.w3.org/2000/svg\" height=\"24px\"viewBox=\"0 0 24 24\"\n",
              "       width=\"24px\">\n",
              "    <path d=\"M0 0h24v24H0V0z\" fill=\"none\"/>\n",
              "    <path d=\"M18.56 5.44l.94 2.06.94-2.06 2.06-.94-2.06-.94-.94-2.06-.94 2.06-2.06.94zm-11 1L8.5 8.5l.94-2.06 2.06-.94-2.06-.94L8.5 2.5l-.94 2.06-2.06.94zm10 10l.94 2.06.94-2.06 2.06-.94-2.06-.94-.94-2.06-.94 2.06-2.06.94z\"/><path d=\"M17.41 7.96l-1.37-1.37c-.4-.4-.92-.59-1.43-.59-.52 0-1.04.2-1.43.59L10.3 9.45l-7.72 7.72c-.78.78-.78 2.05 0 2.83L4 21.41c.39.39.9.59 1.41.59.51 0 1.02-.2 1.41-.59l7.78-7.78 2.81-2.81c.8-.78.8-2.07 0-2.86zM5.41 20L4 18.59l7.72-7.72 1.47 1.35L5.41 20z\"/>\n",
              "  </svg>\n",
              "      </button>\n",
              "      \n",
              "  <style>\n",
              "    .colab-df-container {\n",
              "      display:flex;\n",
              "      flex-wrap:wrap;\n",
              "      gap: 12px;\n",
              "    }\n",
              "\n",
              "    .colab-df-convert {\n",
              "      background-color: #E8F0FE;\n",
              "      border: none;\n",
              "      border-radius: 50%;\n",
              "      cursor: pointer;\n",
              "      display: none;\n",
              "      fill: #1967D2;\n",
              "      height: 32px;\n",
              "      padding: 0 0 0 0;\n",
              "      width: 32px;\n",
              "    }\n",
              "\n",
              "    .colab-df-convert:hover {\n",
              "      background-color: #E2EBFA;\n",
              "      box-shadow: 0px 1px 2px rgba(60, 64, 67, 0.3), 0px 1px 3px 1px rgba(60, 64, 67, 0.15);\n",
              "      fill: #174EA6;\n",
              "    }\n",
              "\n",
              "    [theme=dark] .colab-df-convert {\n",
              "      background-color: #3B4455;\n",
              "      fill: #D2E3FC;\n",
              "    }\n",
              "\n",
              "    [theme=dark] .colab-df-convert:hover {\n",
              "      background-color: #434B5C;\n",
              "      box-shadow: 0px 1px 3px 1px rgba(0, 0, 0, 0.15);\n",
              "      filter: drop-shadow(0px 1px 2px rgba(0, 0, 0, 0.3));\n",
              "      fill: #FFFFFF;\n",
              "    }\n",
              "  </style>\n",
              "\n",
              "      <script>\n",
              "        const buttonEl =\n",
              "          document.querySelector('#df-906b7ba9-d043-4c75-806f-4b1e1369ec1d button.colab-df-convert');\n",
              "        buttonEl.style.display =\n",
              "          google.colab.kernel.accessAllowed ? 'block' : 'none';\n",
              "\n",
              "        async function convertToInteractive(key) {\n",
              "          const element = document.querySelector('#df-906b7ba9-d043-4c75-806f-4b1e1369ec1d');\n",
              "          const dataTable =\n",
              "            await google.colab.kernel.invokeFunction('convertToInteractive',\n",
              "                                                     [key], {});\n",
              "          if (!dataTable) return;\n",
              "\n",
              "          const docLinkHtml = 'Like what you see? Visit the ' +\n",
              "            '<a target=\"_blank\" href=https://colab.research.google.com/notebooks/data_table.ipynb>data table notebook</a>'\n",
              "            + ' to learn more about interactive tables.';\n",
              "          element.innerHTML = '';\n",
              "          dataTable['output_type'] = 'display_data';\n",
              "          await google.colab.output.renderOutput(dataTable, element);\n",
              "          const docLink = document.createElement('div');\n",
              "          docLink.innerHTML = docLinkHtml;\n",
              "          element.appendChild(docLink);\n",
              "        }\n",
              "      </script>\n",
              "    </div>\n",
              "  </div>\n",
              "  "
            ]
          },
          "metadata": {},
          "execution_count": 22
        }
      ]
    },
    {
      "cell_type": "code",
      "source": [
        "#Perform one-hot encoding on the columns containing string variables to fit into model\n",
        "pairs.country_1 = pairs.country_1.factorize()[0]\n",
        "pairs.country_2 = pairs.country_2.factorize()[0]\n",
        "pairs.categories_1 = pairs.categories_1.factorize()[0]\n",
        "pairs.categories_2 = pairs.categories_2.factorize()[0]\n",
        "pairs.name_1 = pairs.name_1.factorize()[0]\n",
        "pairs.name_2 = pairs.name_2.factorize()[0]\n",
        "pairs.match = pairs.match.factorize()[0]\n",
        "\n",
        "pairs.head()\n"
      ],
      "metadata": {
        "id": "uiv8XGD1UQMB",
        "colab": {
          "base_uri": "https://localhost:8080/",
          "height": 206
        },
        "outputId": "a10aa0bc-9901-4c58-9d71-cc11873ec969"
      },
      "execution_count": null,
      "outputs": [
        {
          "output_type": "execute_result",
          "data": {
            "text/plain": [
              "               id_1  name_1  latitude_1  longitude_1  country_1  categories_1  \\\n",
              "0  E_000001272c6c5d       0   50.859975     3.634196          0             0   \n",
              "1  E_000008a8ba4f48       1   37.844510    27.844202          1             1   \n",
              "2  E_000023d8f4be44       2   14.518970   121.018702          2             2   \n",
              "3  E_00007dcd2bb53f       3   38.257797  -122.064599          3             3   \n",
              "4  E_0000c362229d93       4    7.082218   125.610244          2             4   \n",
              "\n",
              "               id_2  name_2  latitude_2  longitude_2  country_2  categories_2  \\\n",
              "0  E_da7fa3963561f8       0   50.869358     3.635206          0             0   \n",
              "1  E_3f12df0b045062       1   37.838020    27.845560          1             1   \n",
              "2  E_12453effe251db       2   14.518330   121.019827          2             2   \n",
              "3  E_f131dcb7f07be9       3   38.257938  -122.064606          3             3   \n",
              "4  E_d52c3c4d53831c       4    7.076016   125.611457          2             4   \n",
              "\n",
              "   match  \n",
              "0      0  \n",
              "1      1  \n",
              "2      0  \n",
              "3      0  \n",
              "4      1  "
            ],
            "text/html": [
              "\n",
              "  <div id=\"df-1b5b93ea-3fb0-41ba-979d-4a079fb71b03\">\n",
              "    <div class=\"colab-df-container\">\n",
              "      <div>\n",
              "<style scoped>\n",
              "    .dataframe tbody tr th:only-of-type {\n",
              "        vertical-align: middle;\n",
              "    }\n",
              "\n",
              "    .dataframe tbody tr th {\n",
              "        vertical-align: top;\n",
              "    }\n",
              "\n",
              "    .dataframe thead th {\n",
              "        text-align: right;\n",
              "    }\n",
              "</style>\n",
              "<table border=\"1\" class=\"dataframe\">\n",
              "  <thead>\n",
              "    <tr style=\"text-align: right;\">\n",
              "      <th></th>\n",
              "      <th>id_1</th>\n",
              "      <th>name_1</th>\n",
              "      <th>latitude_1</th>\n",
              "      <th>longitude_1</th>\n",
              "      <th>country_1</th>\n",
              "      <th>categories_1</th>\n",
              "      <th>id_2</th>\n",
              "      <th>name_2</th>\n",
              "      <th>latitude_2</th>\n",
              "      <th>longitude_2</th>\n",
              "      <th>country_2</th>\n",
              "      <th>categories_2</th>\n",
              "      <th>match</th>\n",
              "    </tr>\n",
              "  </thead>\n",
              "  <tbody>\n",
              "    <tr>\n",
              "      <th>0</th>\n",
              "      <td>E_000001272c6c5d</td>\n",
              "      <td>0</td>\n",
              "      <td>50.859975</td>\n",
              "      <td>3.634196</td>\n",
              "      <td>0</td>\n",
              "      <td>0</td>\n",
              "      <td>E_da7fa3963561f8</td>\n",
              "      <td>0</td>\n",
              "      <td>50.869358</td>\n",
              "      <td>3.635206</td>\n",
              "      <td>0</td>\n",
              "      <td>0</td>\n",
              "      <td>0</td>\n",
              "    </tr>\n",
              "    <tr>\n",
              "      <th>1</th>\n",
              "      <td>E_000008a8ba4f48</td>\n",
              "      <td>1</td>\n",
              "      <td>37.844510</td>\n",
              "      <td>27.844202</td>\n",
              "      <td>1</td>\n",
              "      <td>1</td>\n",
              "      <td>E_3f12df0b045062</td>\n",
              "      <td>1</td>\n",
              "      <td>37.838020</td>\n",
              "      <td>27.845560</td>\n",
              "      <td>1</td>\n",
              "      <td>1</td>\n",
              "      <td>1</td>\n",
              "    </tr>\n",
              "    <tr>\n",
              "      <th>2</th>\n",
              "      <td>E_000023d8f4be44</td>\n",
              "      <td>2</td>\n",
              "      <td>14.518970</td>\n",
              "      <td>121.018702</td>\n",
              "      <td>2</td>\n",
              "      <td>2</td>\n",
              "      <td>E_12453effe251db</td>\n",
              "      <td>2</td>\n",
              "      <td>14.518330</td>\n",
              "      <td>121.019827</td>\n",
              "      <td>2</td>\n",
              "      <td>2</td>\n",
              "      <td>0</td>\n",
              "    </tr>\n",
              "    <tr>\n",
              "      <th>3</th>\n",
              "      <td>E_00007dcd2bb53f</td>\n",
              "      <td>3</td>\n",
              "      <td>38.257797</td>\n",
              "      <td>-122.064599</td>\n",
              "      <td>3</td>\n",
              "      <td>3</td>\n",
              "      <td>E_f131dcb7f07be9</td>\n",
              "      <td>3</td>\n",
              "      <td>38.257938</td>\n",
              "      <td>-122.064606</td>\n",
              "      <td>3</td>\n",
              "      <td>3</td>\n",
              "      <td>0</td>\n",
              "    </tr>\n",
              "    <tr>\n",
              "      <th>4</th>\n",
              "      <td>E_0000c362229d93</td>\n",
              "      <td>4</td>\n",
              "      <td>7.082218</td>\n",
              "      <td>125.610244</td>\n",
              "      <td>2</td>\n",
              "      <td>4</td>\n",
              "      <td>E_d52c3c4d53831c</td>\n",
              "      <td>4</td>\n",
              "      <td>7.076016</td>\n",
              "      <td>125.611457</td>\n",
              "      <td>2</td>\n",
              "      <td>4</td>\n",
              "      <td>1</td>\n",
              "    </tr>\n",
              "  </tbody>\n",
              "</table>\n",
              "</div>\n",
              "      <button class=\"colab-df-convert\" onclick=\"convertToInteractive('df-1b5b93ea-3fb0-41ba-979d-4a079fb71b03')\"\n",
              "              title=\"Convert this dataframe to an interactive table.\"\n",
              "              style=\"display:none;\">\n",
              "        \n",
              "  <svg xmlns=\"http://www.w3.org/2000/svg\" height=\"24px\"viewBox=\"0 0 24 24\"\n",
              "       width=\"24px\">\n",
              "    <path d=\"M0 0h24v24H0V0z\" fill=\"none\"/>\n",
              "    <path d=\"M18.56 5.44l.94 2.06.94-2.06 2.06-.94-2.06-.94-.94-2.06-.94 2.06-2.06.94zm-11 1L8.5 8.5l.94-2.06 2.06-.94-2.06-.94L8.5 2.5l-.94 2.06-2.06.94zm10 10l.94 2.06.94-2.06 2.06-.94-2.06-.94-.94-2.06-.94 2.06-2.06.94z\"/><path d=\"M17.41 7.96l-1.37-1.37c-.4-.4-.92-.59-1.43-.59-.52 0-1.04.2-1.43.59L10.3 9.45l-7.72 7.72c-.78.78-.78 2.05 0 2.83L4 21.41c.39.39.9.59 1.41.59.51 0 1.02-.2 1.41-.59l7.78-7.78 2.81-2.81c.8-.78.8-2.07 0-2.86zM5.41 20L4 18.59l7.72-7.72 1.47 1.35L5.41 20z\"/>\n",
              "  </svg>\n",
              "      </button>\n",
              "      \n",
              "  <style>\n",
              "    .colab-df-container {\n",
              "      display:flex;\n",
              "      flex-wrap:wrap;\n",
              "      gap: 12px;\n",
              "    }\n",
              "\n",
              "    .colab-df-convert {\n",
              "      background-color: #E8F0FE;\n",
              "      border: none;\n",
              "      border-radius: 50%;\n",
              "      cursor: pointer;\n",
              "      display: none;\n",
              "      fill: #1967D2;\n",
              "      height: 32px;\n",
              "      padding: 0 0 0 0;\n",
              "      width: 32px;\n",
              "    }\n",
              "\n",
              "    .colab-df-convert:hover {\n",
              "      background-color: #E2EBFA;\n",
              "      box-shadow: 0px 1px 2px rgba(60, 64, 67, 0.3), 0px 1px 3px 1px rgba(60, 64, 67, 0.15);\n",
              "      fill: #174EA6;\n",
              "    }\n",
              "\n",
              "    [theme=dark] .colab-df-convert {\n",
              "      background-color: #3B4455;\n",
              "      fill: #D2E3FC;\n",
              "    }\n",
              "\n",
              "    [theme=dark] .colab-df-convert:hover {\n",
              "      background-color: #434B5C;\n",
              "      box-shadow: 0px 1px 3px 1px rgba(0, 0, 0, 0.15);\n",
              "      filter: drop-shadow(0px 1px 2px rgba(0, 0, 0, 0.3));\n",
              "      fill: #FFFFFF;\n",
              "    }\n",
              "  </style>\n",
              "\n",
              "      <script>\n",
              "        const buttonEl =\n",
              "          document.querySelector('#df-1b5b93ea-3fb0-41ba-979d-4a079fb71b03 button.colab-df-convert');\n",
              "        buttonEl.style.display =\n",
              "          google.colab.kernel.accessAllowed ? 'block' : 'none';\n",
              "\n",
              "        async function convertToInteractive(key) {\n",
              "          const element = document.querySelector('#df-1b5b93ea-3fb0-41ba-979d-4a079fb71b03');\n",
              "          const dataTable =\n",
              "            await google.colab.kernel.invokeFunction('convertToInteractive',\n",
              "                                                     [key], {});\n",
              "          if (!dataTable) return;\n",
              "\n",
              "          const docLinkHtml = 'Like what you see? Visit the ' +\n",
              "            '<a target=\"_blank\" href=https://colab.research.google.com/notebooks/data_table.ipynb>data table notebook</a>'\n",
              "            + ' to learn more about interactive tables.';\n",
              "          element.innerHTML = '';\n",
              "          dataTable['output_type'] = 'display_data';\n",
              "          await google.colab.output.renderOutput(dataTable, element);\n",
              "          const docLink = document.createElement('div');\n",
              "          docLink.innerHTML = docLinkHtml;\n",
              "          element.appendChild(docLink);\n",
              "        }\n",
              "      </script>\n",
              "    </div>\n",
              "  </div>\n",
              "  "
            ]
          },
          "metadata": {},
          "execution_count": 23
        }
      ]
    },
    {
      "cell_type": "code",
      "source": [
        "#Filling missing values in test and train dataset\n",
        "df_test.categories = df_test.categories.fillna('__NAN__')\n",
        "df_test.name = df_test.name.fillna('__NAN__')\n",
        "df_train['country'].fillna('NA',inplace=True)\n",
        "df_train.categories=df_train.categories.fillna('__NAN__')\n",
        "df_train.name = df_train.name.fillna('__NAN__')"
      ],
      "metadata": {
        "id": "WWCep0HO91Tu"
      },
      "execution_count": null,
      "outputs": []
    },
    {
      "cell_type": "markdown",
      "source": [
        "### Explain:\n",
        "1. Description of dataframe\n",
        "2. Graphical plots of data\n",
        "3. Descriptive statistics of data\n",
        "\n",
        "- After reading all the csv files, the total number of rows and columns of all the data in each dataframe is shown by using the df.shape function. It can be seen that df_train has 1138812 rows and 13 columns, df_test has 5 rows and 2 columns, sample_submission has 5 rows and 2 columns and pairs has 578907 rows and 25 columns. The total number of missing data in df_train is shown by the df_train.isnull().sum() function while the total number of missing data in df_test is shown by the df_test.isnull().sum() function.\n",
        "\n",
        "- Two bar charts are plotted to show which countries have the most data entries. In the train dataset, it can be seen from the graph that the US has the most data entries. Another graph is plotted to see which states have the most data entries in the US, which is the CA state. The graph of most frequent categories is also plotted to show which categories appear most frequently in the Train Dataset which is the Residentual Buildings(Apartments / Condos) category."
      ],
      "metadata": {
        "id": "HBfTDKD0t3Y3"
      }
    },
    {
      "cell_type": "markdown",
      "metadata": {
        "id": "LvE0KzxewhzS"
      },
      "source": [
        "# 4. Model Building"
      ]
    },
    {
      "cell_type": "markdown",
      "source": [
        "### Describe the process of model building"
      ],
      "metadata": {
        "id": "aQAL2y_puFVo"
      }
    },
    {
      "cell_type": "code",
      "execution_count": null,
      "metadata": {
        "id": "XjJkLy7lVwAW"
      },
      "outputs": [],
      "source": [
        "# Show your code here (Step by Step) \n",
        "# Comment each step in your code"
      ]
    },
    {
      "cell_type": "code",
      "source": [
        "#Select features from pairs dataset to be used \n",
        "features = ['latitude_1', 'latitude_2', 'longitude_1', 'longitude_2','country_1','country_2','categories_1','categories_2','name_1','name_2']\n",
        "\n",
        "#Assign X and y\n",
        "X = pairs[features]\n",
        "y = pairs.match\n",
        "\n",
        "#Train test split\n",
        "X_train, X_test, y_train, y_test = train_test_split(X, y, test_size=0.2, random_state=42)\n",
        "\n",
        "#Initialize Random Forest Classifier Model\n",
        "model = RandomForestClassifier(n_jobs = -1)\n",
        "\n",
        "#Fit X and y Train into model\n",
        "model.fit(X_train, y_train)"
      ],
      "metadata": {
        "colab": {
          "base_uri": "https://localhost:8080/"
        },
        "id": "raW3wv9MDDrW",
        "outputId": "e3f1f18e-3c17-4e24-c371-8ca522f74884"
      },
      "execution_count": null,
      "outputs": [
        {
          "output_type": "execute_result",
          "data": {
            "text/plain": [
              "RandomForestClassifier(n_jobs=-1)"
            ]
          },
          "metadata": {},
          "execution_count": 26
        }
      ]
    },
    {
      "cell_type": "code",
      "execution_count": null,
      "metadata": {
        "id": "XM43Havz0RxJ"
      },
      "outputs": [],
      "source": [
        "# Reference from https://www.kaggle.com/code/andypenrose/spatial-neighbours-benchmark-name-and-category\n",
        "\n",
        "#Takes the latitude and longtitude values to construct ball tree\n",
        "tree = BallTree(np.deg2rad(df_test[['latitude', 'longitude']].values), metric='haversine')"
      ]
    },
    {
      "cell_type": "code",
      "execution_count": null,
      "metadata": {
        "colab": {
          "base_uri": "https://localhost:8080/"
        },
        "id": "aSKtQRLE0RxJ",
        "outputId": "df22df6e-2686-4eff-9f53-f1e07a1d7816"
      },
      "outputs": [
        {
          "output_type": "stream",
          "name": "stderr",
          "text": [
            "5it [00:00, 1391.51it/s]\n"
          ]
        }
      ],
      "source": [
        "# list for storing the points of interest\n",
        "pois_out = []\n",
        "# number of neighbours considered\n",
        "n = min(20, len(df_test))\n",
        "# max number of recommended points of interest\n",
        "max_poi = 2\n",
        "# max distance\n",
        "max_dist_cat = 0.0005\n",
        "max_dist_name = 0.005\n",
        "max_dist = max(max_dist_cat, max_dist_name)\n",
        "\n",
        "for i, row in tqdm(df_test.iterrows()):\n",
        "    distances, indices = tree.query(np.deg2rad(np.c_[row['latitude'], row['longitude']]), k = n)\n",
        "    poi = []\n",
        "    for d, j in zip(distances[0], indices[0]):\n",
        "        if d <= max_dist_cat and row['categories'] != '__NAN__' and (row['categories'] in df_test.categories.iloc[j] or df_test.categories.iloc[j] in row['categories']):\n",
        "            poi.append(df_test.id.iloc[j])\n",
        "        elif d <= max_dist_name and row['name'] != '__NAN__' and (row['name'].lower() == df_test.name.iloc[j].lower()):\n",
        "            poi.append(df_test.id.iloc[j])\n",
        "        if d > max_dist or len(poi) >= max_poi:\n",
        "            break\n",
        "\n",
        "    if len(poi) == 0:\n",
        "        pois_out.append(row['id'])\n",
        "    else:\n",
        "        pois_out.append(' '.join(poi))"
      ]
    },
    {
      "cell_type": "code",
      "execution_count": null,
      "metadata": {
        "colab": {
          "base_uri": "https://localhost:8080/",
          "height": 206
        },
        "id": "tZLLWPl60RxJ",
        "outputId": "7665e4e9-7b92-40d0-a46b-d3e64b33dd93"
      },
      "outputs": [
        {
          "output_type": "execute_result",
          "data": {
            "text/plain": [
              "                 id                            matches\n",
              "0  E_00001118ad0191                   E_00001118ad0191\n",
              "1  E_000020eb6fed40                   E_000020eb6fed40\n",
              "2  E_00002f98667edf                   E_00002f98667edf\n",
              "3  E_001b6bad66eb98  E_001b6bad66eb98 E_0283d9f61e569d\n",
              "4  E_0283d9f61e569d  E_0283d9f61e569d E_001b6bad66eb98"
            ],
            "text/html": [
              "\n",
              "  <div id=\"df-857a209e-552d-412f-aa50-9091ee9aa8d7\">\n",
              "    <div class=\"colab-df-container\">\n",
              "      <div>\n",
              "<style scoped>\n",
              "    .dataframe tbody tr th:only-of-type {\n",
              "        vertical-align: middle;\n",
              "    }\n",
              "\n",
              "    .dataframe tbody tr th {\n",
              "        vertical-align: top;\n",
              "    }\n",
              "\n",
              "    .dataframe thead th {\n",
              "        text-align: right;\n",
              "    }\n",
              "</style>\n",
              "<table border=\"1\" class=\"dataframe\">\n",
              "  <thead>\n",
              "    <tr style=\"text-align: right;\">\n",
              "      <th></th>\n",
              "      <th>id</th>\n",
              "      <th>matches</th>\n",
              "    </tr>\n",
              "  </thead>\n",
              "  <tbody>\n",
              "    <tr>\n",
              "      <th>0</th>\n",
              "      <td>E_00001118ad0191</td>\n",
              "      <td>E_00001118ad0191</td>\n",
              "    </tr>\n",
              "    <tr>\n",
              "      <th>1</th>\n",
              "      <td>E_000020eb6fed40</td>\n",
              "      <td>E_000020eb6fed40</td>\n",
              "    </tr>\n",
              "    <tr>\n",
              "      <th>2</th>\n",
              "      <td>E_00002f98667edf</td>\n",
              "      <td>E_00002f98667edf</td>\n",
              "    </tr>\n",
              "    <tr>\n",
              "      <th>3</th>\n",
              "      <td>E_001b6bad66eb98</td>\n",
              "      <td>E_001b6bad66eb98 E_0283d9f61e569d</td>\n",
              "    </tr>\n",
              "    <tr>\n",
              "      <th>4</th>\n",
              "      <td>E_0283d9f61e569d</td>\n",
              "      <td>E_0283d9f61e569d E_001b6bad66eb98</td>\n",
              "    </tr>\n",
              "  </tbody>\n",
              "</table>\n",
              "</div>\n",
              "      <button class=\"colab-df-convert\" onclick=\"convertToInteractive('df-857a209e-552d-412f-aa50-9091ee9aa8d7')\"\n",
              "              title=\"Convert this dataframe to an interactive table.\"\n",
              "              style=\"display:none;\">\n",
              "        \n",
              "  <svg xmlns=\"http://www.w3.org/2000/svg\" height=\"24px\"viewBox=\"0 0 24 24\"\n",
              "       width=\"24px\">\n",
              "    <path d=\"M0 0h24v24H0V0z\" fill=\"none\"/>\n",
              "    <path d=\"M18.56 5.44l.94 2.06.94-2.06 2.06-.94-2.06-.94-.94-2.06-.94 2.06-2.06.94zm-11 1L8.5 8.5l.94-2.06 2.06-.94-2.06-.94L8.5 2.5l-.94 2.06-2.06.94zm10 10l.94 2.06.94-2.06 2.06-.94-2.06-.94-.94-2.06-.94 2.06-2.06.94z\"/><path d=\"M17.41 7.96l-1.37-1.37c-.4-.4-.92-.59-1.43-.59-.52 0-1.04.2-1.43.59L10.3 9.45l-7.72 7.72c-.78.78-.78 2.05 0 2.83L4 21.41c.39.39.9.59 1.41.59.51 0 1.02-.2 1.41-.59l7.78-7.78 2.81-2.81c.8-.78.8-2.07 0-2.86zM5.41 20L4 18.59l7.72-7.72 1.47 1.35L5.41 20z\"/>\n",
              "  </svg>\n",
              "      </button>\n",
              "      \n",
              "  <style>\n",
              "    .colab-df-container {\n",
              "      display:flex;\n",
              "      flex-wrap:wrap;\n",
              "      gap: 12px;\n",
              "    }\n",
              "\n",
              "    .colab-df-convert {\n",
              "      background-color: #E8F0FE;\n",
              "      border: none;\n",
              "      border-radius: 50%;\n",
              "      cursor: pointer;\n",
              "      display: none;\n",
              "      fill: #1967D2;\n",
              "      height: 32px;\n",
              "      padding: 0 0 0 0;\n",
              "      width: 32px;\n",
              "    }\n",
              "\n",
              "    .colab-df-convert:hover {\n",
              "      background-color: #E2EBFA;\n",
              "      box-shadow: 0px 1px 2px rgba(60, 64, 67, 0.3), 0px 1px 3px 1px rgba(60, 64, 67, 0.15);\n",
              "      fill: #174EA6;\n",
              "    }\n",
              "\n",
              "    [theme=dark] .colab-df-convert {\n",
              "      background-color: #3B4455;\n",
              "      fill: #D2E3FC;\n",
              "    }\n",
              "\n",
              "    [theme=dark] .colab-df-convert:hover {\n",
              "      background-color: #434B5C;\n",
              "      box-shadow: 0px 1px 3px 1px rgba(0, 0, 0, 0.15);\n",
              "      filter: drop-shadow(0px 1px 2px rgba(0, 0, 0, 0.3));\n",
              "      fill: #FFFFFF;\n",
              "    }\n",
              "  </style>\n",
              "\n",
              "      <script>\n",
              "        const buttonEl =\n",
              "          document.querySelector('#df-857a209e-552d-412f-aa50-9091ee9aa8d7 button.colab-df-convert');\n",
              "        buttonEl.style.display =\n",
              "          google.colab.kernel.accessAllowed ? 'block' : 'none';\n",
              "\n",
              "        async function convertToInteractive(key) {\n",
              "          const element = document.querySelector('#df-857a209e-552d-412f-aa50-9091ee9aa8d7');\n",
              "          const dataTable =\n",
              "            await google.colab.kernel.invokeFunction('convertToInteractive',\n",
              "                                                     [key], {});\n",
              "          if (!dataTable) return;\n",
              "\n",
              "          const docLinkHtml = 'Like what you see? Visit the ' +\n",
              "            '<a target=\"_blank\" href=https://colab.research.google.com/notebooks/data_table.ipynb>data table notebook</a>'\n",
              "            + ' to learn more about interactive tables.';\n",
              "          element.innerHTML = '';\n",
              "          dataTable['output_type'] = 'display_data';\n",
              "          await google.colab.output.renderOutput(dataTable, element);\n",
              "          const docLink = document.createElement('div');\n",
              "          docLink.innerHTML = docLinkHtml;\n",
              "          element.appendChild(docLink);\n",
              "        }\n",
              "      </script>\n",
              "    </div>\n",
              "  </div>\n",
              "  "
            ]
          },
          "metadata": {},
          "execution_count": 29
        }
      ],
      "source": [
        "#Show matches\n",
        "sample_submission.matches = pois_out\n",
        "sample_submission.head()"
      ]
    },
    {
      "cell_type": "code",
      "execution_count": null,
      "metadata": {
        "id": "M3K6srkC0RxK"
      },
      "outputs": [],
      "source": [
        "#Copy output to csv file.\n",
        "sample_submission.to_csv('submission.csv', index=False)"
      ]
    },
    {
      "cell_type": "markdown",
      "source": [
        "##1. Partitioning of data\n",
        "To build the model, the pairs.csv file is used to be split into training and test set. This is done by the train_test_split function from scikitlearn. For the BallTree model, the longtitude and latitude in the test dataset is used to construct the ball tree. A query will then be exceuted with the test dataset and return two arrays which consist of the distances and indices of the neighboring locations. The indices is then used to match the correct locations.\n",
        "\n",
        "##2. Model selection\n",
        "The model selected to solve the problem is by using Random Forest Classifier which can be used to maintain accuracy of large propotion of data. Other than that, the team also tried to use the BallTree model. By using BallTree from the sklearn.neighbors library, it can be used to organise the points in a multi-dimensional space and assigned to the tree variable. It divides points based on radial distances to a centre. This is useful to solve our problem as it can approximately determine the actual distance between coordinates, which can be used to find the matches in location.\n",
        "\n",
        "##3. Model Training\n",
        "For the Random Forest Classifier model, we have selected several features to be trained after changing the attributes that contained string values to numerical values so that it can be fitted into the model. For the BallTree model, the model is trained by using the latitute and longtitude given in the test dataset to construct the ball tree model. The coordinates are transformed from degree to radian using the deg2rad function as Haversine distance is used in the BallTree function.\n",
        "\n",
        "##4. Attribute that have greatest effect on matching result \n",
        "It can be seen that the attributes that have the greatest effect on the matching results which we used to train the model includes Country, Latitude, Longtitude, Name and Category. For the BallTree model, we used the longtitude and latitude from the test dataset."
      ],
      "metadata": {
        "id": "1cHvrVyMB3Tm"
      }
    },
    {
      "cell_type": "markdown",
      "source": [
        "<!-- ### Explain: \n",
        "1. how the data is partitioned\n",
        "2. how the model is chosen\n",
        "3. how the model is trained\n",
        "4. the attributes that have the greatest effect on the matching results\n",
        "\n",
        "\n",
        "1. The longtitude and latitude in the train dataset is used to construct the ball tree. A query will then be exceuted with the test dataset and return two arrays which consist of the distances and indices of the neighboring locations. The indices is then used to match the correct locations.\n",
        "\n",
        "2. The model is chosen as it is able to deal with large datasets. In our case, a large test set will be fitted into our model to be tested. By using BallTree from the sklearn.neighbors library, it can be used to organise the points in a multi-dimensional space and assigned to the tree variable. It divides points based on radial distances to a centre. This is useful to solve our problem as it can approximately determine the actual distance between coordinates, which can be used to find the matches in location.\n",
        "\n",
        "3. The model is trained by using the latitute and longtitude given in the test dataset to construct the ball tree model. The coordinates are transformed from degree to radian using the deg2rad function as Haversine distance is used in the BallTree function.\n",
        "\n",
        "4. The attributes that have the greatest effect on the matching results are the longtitude and latitude. -->"
      ],
      "metadata": {
        "id": "nUkarS38uYXW"
      }
    },
    {
      "cell_type": "markdown",
      "metadata": {
        "id": "msbLJnmOwhzT"
      },
      "source": [
        "# 5. Model Evaluation"
      ]
    },
    {
      "cell_type": "markdown",
      "metadata": {
        "id": "Ll-rnRKGDQ0k"
      },
      "source": [
        "### Describe the process of model evaluation"
      ]
    },
    {
      "cell_type": "code",
      "execution_count": null,
      "metadata": {
        "id": "w1H-8vGMwhzU"
      },
      "outputs": [],
      "source": [
        "# Show your code here (Step by Step) \n",
        "# Comment each step in your code"
      ]
    },
    {
      "cell_type": "code",
      "execution_count": null,
      "metadata": {
        "id": "8j3yakQQ1CIx"
      },
      "outputs": [],
      "source": [
        "# import library\n",
        "from sklearn.metrics import jaccard_score\n",
        "from sklearn.metrics import classification_report\n",
        "from sklearn.metrics import confusion_matrix"
      ]
    },
    {
      "cell_type": "code",
      "source": [
        "# use the X_test feature to predict the value of y\n",
        "y_pred = model.predict(X_test)"
      ],
      "metadata": {
        "id": "j2THpAJ8X0kW"
      },
      "execution_count": null,
      "outputs": []
    },
    {
      "cell_type": "code",
      "source": [
        "# Since the submissions are evaluated by the mean Intersection over Union, which is Jaccard score\n",
        "# Also include the jaccard_score in the model evaluation\n",
        "\n",
        "iou_score = jaccard_score(y_test, y_pred)\n",
        "iou_score"
      ],
      "metadata": {
        "id": "l6VW4Do7X0mh",
        "colab": {
          "base_uri": "https://localhost:8080/"
        },
        "outputId": "5484e771-5e68-4c06-c276-a13c3b7d4753"
      },
      "execution_count": null,
      "outputs": [
        {
          "output_type": "execute_result",
          "data": {
            "text/plain": [
              "0.41842942718083115"
            ]
          },
          "metadata": {},
          "execution_count": 48
        }
      ]
    },
    {
      "cell_type": "code",
      "execution_count": null,
      "metadata": {
        "id": "xWWWNn4j1CRk",
        "colab": {
          "base_uri": "https://localhost:8080/"
        },
        "outputId": "c2db9b7e-fa07-4147-faff-67d2268be9c2"
      },
      "outputs": [
        {
          "output_type": "stream",
          "name": "stdout",
          "text": [
            "              precision    recall  f1-score   support\n",
            "\n",
            "           0       0.80      0.91      0.85     79881\n",
            "           1       0.72      0.50      0.59     35901\n",
            "\n",
            "    accuracy                           0.79    115782\n",
            "   macro avg       0.76      0.71      0.72    115782\n",
            "weighted avg       0.78      0.79      0.77    115782\n",
            "\n"
          ]
        }
      ],
      "source": [
        "# Display the classification report to show the accuracy of the model\n",
        "print(classification_report(y_test, y_pred))"
      ]
    },
    {
      "cell_type": "code",
      "source": [
        "# Display the confusion matrix to show how many observation it correctly predicted\n",
        "\n",
        "cm = pd.DataFrame(confusion_matrix(y_test, y_pred))\n",
        "cm"
      ],
      "metadata": {
        "colab": {
          "base_uri": "https://localhost:8080/",
          "height": 112
        },
        "id": "LCjP-0-Qw9fj",
        "outputId": "60cc9cd2-1b72-4be6-a3d7-ac95f0ed22d7"
      },
      "execution_count": null,
      "outputs": [
        {
          "output_type": "execute_result",
          "data": {
            "text/plain": [
              "       0      1\n",
              "0  73046   6835\n",
              "1  18019  17882"
            ],
            "text/html": [
              "\n",
              "  <div id=\"df-5c46b2f8-db00-4561-a8a0-670430aa3007\">\n",
              "    <div class=\"colab-df-container\">\n",
              "      <div>\n",
              "<style scoped>\n",
              "    .dataframe tbody tr th:only-of-type {\n",
              "        vertical-align: middle;\n",
              "    }\n",
              "\n",
              "    .dataframe tbody tr th {\n",
              "        vertical-align: top;\n",
              "    }\n",
              "\n",
              "    .dataframe thead th {\n",
              "        text-align: right;\n",
              "    }\n",
              "</style>\n",
              "<table border=\"1\" class=\"dataframe\">\n",
              "  <thead>\n",
              "    <tr style=\"text-align: right;\">\n",
              "      <th></th>\n",
              "      <th>0</th>\n",
              "      <th>1</th>\n",
              "    </tr>\n",
              "  </thead>\n",
              "  <tbody>\n",
              "    <tr>\n",
              "      <th>0</th>\n",
              "      <td>73046</td>\n",
              "      <td>6835</td>\n",
              "    </tr>\n",
              "    <tr>\n",
              "      <th>1</th>\n",
              "      <td>18019</td>\n",
              "      <td>17882</td>\n",
              "    </tr>\n",
              "  </tbody>\n",
              "</table>\n",
              "</div>\n",
              "      <button class=\"colab-df-convert\" onclick=\"convertToInteractive('df-5c46b2f8-db00-4561-a8a0-670430aa3007')\"\n",
              "              title=\"Convert this dataframe to an interactive table.\"\n",
              "              style=\"display:none;\">\n",
              "        \n",
              "  <svg xmlns=\"http://www.w3.org/2000/svg\" height=\"24px\"viewBox=\"0 0 24 24\"\n",
              "       width=\"24px\">\n",
              "    <path d=\"M0 0h24v24H0V0z\" fill=\"none\"/>\n",
              "    <path d=\"M18.56 5.44l.94 2.06.94-2.06 2.06-.94-2.06-.94-.94-2.06-.94 2.06-2.06.94zm-11 1L8.5 8.5l.94-2.06 2.06-.94-2.06-.94L8.5 2.5l-.94 2.06-2.06.94zm10 10l.94 2.06.94-2.06 2.06-.94-2.06-.94-.94-2.06-.94 2.06-2.06.94z\"/><path d=\"M17.41 7.96l-1.37-1.37c-.4-.4-.92-.59-1.43-.59-.52 0-1.04.2-1.43.59L10.3 9.45l-7.72 7.72c-.78.78-.78 2.05 0 2.83L4 21.41c.39.39.9.59 1.41.59.51 0 1.02-.2 1.41-.59l7.78-7.78 2.81-2.81c.8-.78.8-2.07 0-2.86zM5.41 20L4 18.59l7.72-7.72 1.47 1.35L5.41 20z\"/>\n",
              "  </svg>\n",
              "      </button>\n",
              "      \n",
              "  <style>\n",
              "    .colab-df-container {\n",
              "      display:flex;\n",
              "      flex-wrap:wrap;\n",
              "      gap: 12px;\n",
              "    }\n",
              "\n",
              "    .colab-df-convert {\n",
              "      background-color: #E8F0FE;\n",
              "      border: none;\n",
              "      border-radius: 50%;\n",
              "      cursor: pointer;\n",
              "      display: none;\n",
              "      fill: #1967D2;\n",
              "      height: 32px;\n",
              "      padding: 0 0 0 0;\n",
              "      width: 32px;\n",
              "    }\n",
              "\n",
              "    .colab-df-convert:hover {\n",
              "      background-color: #E2EBFA;\n",
              "      box-shadow: 0px 1px 2px rgba(60, 64, 67, 0.3), 0px 1px 3px 1px rgba(60, 64, 67, 0.15);\n",
              "      fill: #174EA6;\n",
              "    }\n",
              "\n",
              "    [theme=dark] .colab-df-convert {\n",
              "      background-color: #3B4455;\n",
              "      fill: #D2E3FC;\n",
              "    }\n",
              "\n",
              "    [theme=dark] .colab-df-convert:hover {\n",
              "      background-color: #434B5C;\n",
              "      box-shadow: 0px 1px 3px 1px rgba(0, 0, 0, 0.15);\n",
              "      filter: drop-shadow(0px 1px 2px rgba(0, 0, 0, 0.3));\n",
              "      fill: #FFFFFF;\n",
              "    }\n",
              "  </style>\n",
              "\n",
              "      <script>\n",
              "        const buttonEl =\n",
              "          document.querySelector('#df-5c46b2f8-db00-4561-a8a0-670430aa3007 button.colab-df-convert');\n",
              "        buttonEl.style.display =\n",
              "          google.colab.kernel.accessAllowed ? 'block' : 'none';\n",
              "\n",
              "        async function convertToInteractive(key) {\n",
              "          const element = document.querySelector('#df-5c46b2f8-db00-4561-a8a0-670430aa3007');\n",
              "          const dataTable =\n",
              "            await google.colab.kernel.invokeFunction('convertToInteractive',\n",
              "                                                     [key], {});\n",
              "          if (!dataTable) return;\n",
              "\n",
              "          const docLinkHtml = 'Like what you see? Visit the ' +\n",
              "            '<a target=\"_blank\" href=https://colab.research.google.com/notebooks/data_table.ipynb>data table notebook</a>'\n",
              "            + ' to learn more about interactive tables.';\n",
              "          element.innerHTML = '';\n",
              "          dataTable['output_type'] = 'display_data';\n",
              "          await google.colab.output.renderOutput(dataTable, element);\n",
              "          const docLink = document.createElement('div');\n",
              "          docLink.innerHTML = docLinkHtml;\n",
              "          element.appendChild(docLink);\n",
              "        }\n",
              "      </script>\n",
              "    </div>\n",
              "  </div>\n",
              "  "
            ]
          },
          "metadata": {},
          "execution_count": 44
        }
      ]
    },
    {
      "cell_type": "markdown",
      "metadata": {
        "id": "vqVkEweDDGPt"
      },
      "source": [
        "### Explain: \n",
        "1. the performance of the model created\n",
        "* The model used above is Random Forest model. From the IoU score, we know that the similarity of y_pred and y_test is not high. And from classification report, we can tell the model has good performance, it achieves around 79% of accuracy. By looking at the Confusion Matrix, although it correctly predicted the True Positive and True Negative, still a lot of observations are wrongly labeled.\n",
        "\n",
        "\n",
        "2. how the model can be used to predict or match the POIs accurately\n",
        "* Our model takes in the features to train the relationship between features and match column. Our model do not directly predict or match the POI, instead if the model predicted the match output is true, that's mean the POI is accurate and correctly predicted."
      ]
    },
    {
      "cell_type": "markdown",
      "metadata": {
        "id": "X0R14MMrwhzU"
      },
      "source": [
        "# 6. Model Validation (Challenge)"
      ]
    },
    {
      "cell_type": "markdown",
      "metadata": {
        "id": "mIIKoXHqE_gs"
      },
      "source": [
        "### Describe the process of model validation"
      ]
    },
    {
      "cell_type": "code",
      "execution_count": null,
      "metadata": {
        "id": "Ie2uPxmBwhzV"
      },
      "outputs": [],
      "source": [
        "# Show your code here (Step by Step) \n",
        "# Comment each step in your code"
      ]
    },
    {
      "cell_type": "code",
      "execution_count": null,
      "metadata": {
        "id": "eTMvGobMIKdV"
      },
      "outputs": [],
      "source": [
        "from sklearn.model_selection import KFold, cross_val_score"
      ]
    },
    {
      "cell_type": "code",
      "execution_count": null,
      "metadata": {
        "id": "e9Jg4mB9IKm0",
        "colab": {
          "base_uri": "https://localhost:8080/"
        },
        "outputId": "8524e809-cc05-4d90-b596-0949dee98daf"
      },
      "outputs": [
        {
          "output_type": "stream",
          "name": "stdout",
          "text": [
            "Cross Validation Scores are [0.76301926 0.76638743 0.75626188 0.76161686 0.76075315 0.75367075\n",
            " 0.75764381 0.75868026 0.76049404 0.75945759]\n",
            "Average Cross Validation score :0.7597985022742743\n"
          ]
        }
      ],
      "source": [
        "#Perform K-Fold cross validation\n",
        "kf=KFold(n_splits=10)\n",
        "score=cross_val_score(model,X_test,y_test,cv=kf)\n",
        "print(\"Cross Validation Scores are {}\".format(score))\n",
        "print(\"Average Cross Validation score :{}\".format(score.mean()))"
      ]
    },
    {
      "cell_type": "markdown",
      "metadata": {
        "id": "PRqbbfTwFCcs"
      },
      "source": [
        "### Explain: \n",
        "###1. The Cross-Validation Approach\n",
        "* The cross-validation approach I applied here is K-fold, the number of folds is set to 10, and using the random forest model to do the model validation. The dataset applied here is the test set after getting split from pairs.csv.\n",
        "\n",
        "###2. The matching or predictive performance of the model created\n",
        "*  The average cross validation score of the random forest model is around 0.76. The model performance is decent, can be better if we have more useful features and less missing values."
      ]
    },
    {
      "cell_type": "markdown",
      "metadata": {
        "id": "mz5poUpZwhzV"
      },
      "source": [
        "# 7. Discussion"
      ]
    },
    {
      "cell_type": "markdown",
      "metadata": {
        "id": "cWTrKY3TFHaf"
      },
      "source": [
        "### Identify:\n",
        "###1. The factors that have significant influences on location matching\n",
        "- The factors that infuences the location matching significantly are the latitude and longitude attributes.\n",
        "\n",
        "###2. Any interesting observation from this challenge\n",
        "- From this challenge, we know that the commercial points-of-interest (POI) is a immportant information to business. By knowing each shop's POI, we know that which category of shops have better place to set up their shops. We use longitude and latitude to calculate the POI, and see if it matches the other shop's POI, then the business owner can find the same POI to set up their shop."
      ]
    },
    {
      "cell_type": "markdown",
      "metadata": {
        "id": "l02CAd3bFu1a"
      },
      "source": [
        "###Explain:\n",
        "###1. The limitations and weaknesses of the modelling approach\n",
        "- Random Forest Classification model: The pais dataset contained many data with null values, which will cause the prediction to be inaccurate.\n",
        "- BallTree model: The accuracy score cannot be obtained using our validation and evaluation methods used.\n",
        "\n",
        "###2. The steps taken to improve the matching accuracy in your modelling approach\n",
        "- From the pairs dataset, we have chosen only a few attributes to be used and dropped the attributes that are of no use. This will increase the accuracy as there are less missing values."
      ]
    },
    {
      "cell_type": "markdown",
      "metadata": {
        "id": "L0xNjqsvFy7q"
      },
      "source": [
        "### Elaborate:\n",
        "###1. The experience in participating in a Kaggle challenge\n",
        "- The experience in participating in this particular Kaggle challenge is very interesting. On the competition page, there are many different code posted by other data scientists or users which can help one another to come up with ideas to solve the problem. The team has seen how many other data scientist develop their machine learning models.\n",
        "\n",
        "###2. The discussion and submission score on Kaggle (include the screenshot or link to your submission here)\n",
        "[Kaggle Submission](https://www.kaggle.com/code/lzx932001/2022-s1-cos20083-assignment2-group11?scriptVersionId=96005490)\n",
        "![Screenshot 2022-05-19 152153.jpeg](data:image/jpeg;base64,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)\n",
        "\n",
        "###3. The improvements that need to be done in order to win the challenge\n",
        "- We should increase our knowledge by performing more tasks related to data science. This can help us to gain more experience in participating in a real life data science problem. Our model should also be able to return a high accuracy to win this challenge."
      ]
    },
    {
      "cell_type": "markdown",
      "metadata": {
        "id": "kr6c-sf9whzW"
      },
      "source": [
        "# Team contribution"
      ]
    },
    {
      "cell_type": "markdown",
      "metadata": {
        "id": "tpCkTCsTGBpZ"
      },
      "source": [
        "\n",
        "##Participation Percentage:\n",
        "\n",
        "##(1) Justin Liu Shan Wei (50%)\n",
        "Tasks: \n",
        "- Introduction\n",
        "- Data collection and understanding\n",
        "- Exploratory Data Analysis\n",
        "- Model Building\n",
        "- Discussion\n",
        "\n",
        "##(2) Lim Zong Xin (50%)\n",
        "Tasks: \n",
        "- Model building\n",
        "- Model evaluation\n",
        "- Model validation\n",
        "- Discussion"
      ]
    }
  ],
  "metadata": {
    "colab": {
      "collapsed_sections": [],
      "name": "COS20083_Assignment2_Group11.ipynb",
      "provenance": []
    },
    "kernelspec": {
      "display_name": "Python 3",
      "language": "python",
      "name": "python3"
    },
    "language_info": {
      "codemirror_mode": {
        "name": "ipython",
        "version": 3
      },
      "file_extension": ".py",
      "mimetype": "text/x-python",
      "name": "python",
      "nbconvert_exporter": "python",
      "pygments_lexer": "ipython3",
      "version": "3.7.12"
    }
  },
  "nbformat": 4,
  "nbformat_minor": 0
}